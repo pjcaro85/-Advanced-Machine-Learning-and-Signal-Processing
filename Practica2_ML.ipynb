{
  "nbformat": 4,
  "nbformat_minor": 0,
  "metadata": {
    "colab": {
      "name": "Practica2-ML.ipynb",
      "provenance": [],
      "collapsed_sections": [
        "VUmkM__FWfrH",
        "-HzAiFWqlRZX",
        "JOa0uuzdyFh9",
        "xIpXEAlglEmt"
      ],
      "toc_visible": true,
      "authorship_tag": "ABX9TyNdmntLYKK4CQ/ao+TACktu",
      "include_colab_link": true
    },
    "kernelspec": {
      "name": "python3",
      "display_name": "Python 3"
    },
    "language_info": {
      "name": "python"
    }
  },
  "cells": [
    {
      "cell_type": "markdown",
      "metadata": {
        "id": "view-in-github",
        "colab_type": "text"
      },
      "source": [
        "<a href=\"https://colab.research.google.com/github/pjcaro85/-Advanced-Machine-Learning-and-Signal-Processing/blob/master/Practica2_ML.ipynb\" target=\"_parent\"><img src=\"https://colab.research.google.com/assets/colab-badge.svg\" alt=\"Open In Colab\"/></a>"
      ]
    },
    {
      "cell_type": "code",
      "metadata": {
        "id": "7W87g_CQZEWj"
      },
      "source": [
        "#Importamos modulos\n",
        "import pandas as pd\n",
        "import numpy as np\n",
        "import io\n",
        "import requests\n",
        "import seaborn as sns\n",
        "import timeit\n",
        "import matplotlib.pyplot as plt\n",
        "from numpy import corrcoef, transpose, arange\n",
        "from pylab import pcolor, show, colorbar, xticks, yticks\n",
        "from scipy.cluster.hierarchy import dendrogram, linkage"
      ],
      "execution_count": 6,
      "outputs": []
    },
    {
      "cell_type": "markdown",
      "metadata": {
        "id": "VUmkM__FWfrH"
      },
      "source": [
        "# **Practica 2 : Aprendizaje supervido**"
      ]
    },
    {
      "cell_type": "markdown",
      "metadata": {
        "id": "ini2bsl0XFXQ"
      },
      "source": [
        "##**Datos**:\n",
        " Datos sobre el contagio de Dengue en dos ciudades (San Juan e Iquitos) según  datos meteorológicos. Estos datos son de una competición del sitio DrivenData (https://www.drivendata.org/competitions/44/dengai-predicting-disease-spread/ ). Se utilizarán los datos de entrenamiento (Training Data Features: https://s3.amazonaws.com/drivendata/data/44/public/dengue_features_train.csv).\n",
        "\n",
        "##**Objetivo**: \n",
        "Utilizar técnicas de aprendizaje no supervisado para realizar una exploración preliminar de los datos y extraer conclusiones a partir de elementos descartables, etc.\n",
        "\n",
        "##**Técnica a utilizar**:\n",
        " Técnicas de aprendizaje no supervisado de las vistas en la asignatura."
      ]
    },
    {
      "cell_type": "markdown",
      "metadata": {
        "id": "-HzAiFWqlRZX"
      },
      "source": [
        "#Dataset"
      ]
    },
    {
      "cell_type": "code",
      "metadata": {
        "colab": {
          "base_uri": "https://localhost:8080/",
          "height": 0
        },
        "id": "4ebjXPpcZKmk",
        "outputId": "bb45e958-085a-453f-ecaf-448c94e4c5fd"
      },
      "source": [
        "#Lectura del dataset\n",
        "\n",
        "df1= pd.read_csv('dengue_features_train.csv')\n",
        "df1.head(5)"
      ],
      "execution_count": 7,
      "outputs": [
        {
          "output_type": "execute_result",
          "data": {
            "text/html": [
              "<div>\n",
              "<style scoped>\n",
              "    .dataframe tbody tr th:only-of-type {\n",
              "        vertical-align: middle;\n",
              "    }\n",
              "\n",
              "    .dataframe tbody tr th {\n",
              "        vertical-align: top;\n",
              "    }\n",
              "\n",
              "    .dataframe thead th {\n",
              "        text-align: right;\n",
              "    }\n",
              "</style>\n",
              "<table border=\"1\" class=\"dataframe\">\n",
              "  <thead>\n",
              "    <tr style=\"text-align: right;\">\n",
              "      <th></th>\n",
              "      <th>city</th>\n",
              "      <th>year</th>\n",
              "      <th>weekofyear</th>\n",
              "      <th>week_start_date</th>\n",
              "      <th>ndvi_ne</th>\n",
              "      <th>ndvi_nw</th>\n",
              "      <th>ndvi_se</th>\n",
              "      <th>ndvi_sw</th>\n",
              "      <th>precipitation_amt_mm</th>\n",
              "      <th>reanalysis_air_temp_k</th>\n",
              "      <th>reanalysis_avg_temp_k</th>\n",
              "      <th>reanalysis_dew_point_temp_k</th>\n",
              "      <th>reanalysis_max_air_temp_k</th>\n",
              "      <th>reanalysis_min_air_temp_k</th>\n",
              "      <th>reanalysis_precip_amt_kg_per_m2</th>\n",
              "      <th>reanalysis_relative_humidity_percent</th>\n",
              "      <th>reanalysis_sat_precip_amt_mm</th>\n",
              "      <th>reanalysis_specific_humidity_g_per_kg</th>\n",
              "      <th>reanalysis_tdtr_k</th>\n",
              "      <th>station_avg_temp_c</th>\n",
              "      <th>station_diur_temp_rng_c</th>\n",
              "      <th>station_max_temp_c</th>\n",
              "      <th>station_min_temp_c</th>\n",
              "      <th>station_precip_mm</th>\n",
              "    </tr>\n",
              "  </thead>\n",
              "  <tbody>\n",
              "    <tr>\n",
              "      <th>0</th>\n",
              "      <td>sj</td>\n",
              "      <td>1990</td>\n",
              "      <td>18</td>\n",
              "      <td>1990-04-30</td>\n",
              "      <td>0.122600</td>\n",
              "      <td>0.103725</td>\n",
              "      <td>0.198483</td>\n",
              "      <td>0.177617</td>\n",
              "      <td>12.42</td>\n",
              "      <td>297.572857</td>\n",
              "      <td>297.742857</td>\n",
              "      <td>292.414286</td>\n",
              "      <td>299.8</td>\n",
              "      <td>295.9</td>\n",
              "      <td>32.00</td>\n",
              "      <td>73.365714</td>\n",
              "      <td>12.42</td>\n",
              "      <td>14.012857</td>\n",
              "      <td>2.628571</td>\n",
              "      <td>25.442857</td>\n",
              "      <td>6.900000</td>\n",
              "      <td>29.4</td>\n",
              "      <td>20.0</td>\n",
              "      <td>16.0</td>\n",
              "    </tr>\n",
              "    <tr>\n",
              "      <th>1</th>\n",
              "      <td>sj</td>\n",
              "      <td>1990</td>\n",
              "      <td>19</td>\n",
              "      <td>1990-05-07</td>\n",
              "      <td>0.169900</td>\n",
              "      <td>0.142175</td>\n",
              "      <td>0.162357</td>\n",
              "      <td>0.155486</td>\n",
              "      <td>22.82</td>\n",
              "      <td>298.211429</td>\n",
              "      <td>298.442857</td>\n",
              "      <td>293.951429</td>\n",
              "      <td>300.9</td>\n",
              "      <td>296.4</td>\n",
              "      <td>17.94</td>\n",
              "      <td>77.368571</td>\n",
              "      <td>22.82</td>\n",
              "      <td>15.372857</td>\n",
              "      <td>2.371429</td>\n",
              "      <td>26.714286</td>\n",
              "      <td>6.371429</td>\n",
              "      <td>31.7</td>\n",
              "      <td>22.2</td>\n",
              "      <td>8.6</td>\n",
              "    </tr>\n",
              "    <tr>\n",
              "      <th>2</th>\n",
              "      <td>sj</td>\n",
              "      <td>1990</td>\n",
              "      <td>20</td>\n",
              "      <td>1990-05-14</td>\n",
              "      <td>0.032250</td>\n",
              "      <td>0.172967</td>\n",
              "      <td>0.157200</td>\n",
              "      <td>0.170843</td>\n",
              "      <td>34.54</td>\n",
              "      <td>298.781429</td>\n",
              "      <td>298.878571</td>\n",
              "      <td>295.434286</td>\n",
              "      <td>300.5</td>\n",
              "      <td>297.3</td>\n",
              "      <td>26.10</td>\n",
              "      <td>82.052857</td>\n",
              "      <td>34.54</td>\n",
              "      <td>16.848571</td>\n",
              "      <td>2.300000</td>\n",
              "      <td>26.714286</td>\n",
              "      <td>6.485714</td>\n",
              "      <td>32.2</td>\n",
              "      <td>22.8</td>\n",
              "      <td>41.4</td>\n",
              "    </tr>\n",
              "    <tr>\n",
              "      <th>3</th>\n",
              "      <td>sj</td>\n",
              "      <td>1990</td>\n",
              "      <td>21</td>\n",
              "      <td>1990-05-21</td>\n",
              "      <td>0.128633</td>\n",
              "      <td>0.245067</td>\n",
              "      <td>0.227557</td>\n",
              "      <td>0.235886</td>\n",
              "      <td>15.36</td>\n",
              "      <td>298.987143</td>\n",
              "      <td>299.228571</td>\n",
              "      <td>295.310000</td>\n",
              "      <td>301.4</td>\n",
              "      <td>297.0</td>\n",
              "      <td>13.90</td>\n",
              "      <td>80.337143</td>\n",
              "      <td>15.36</td>\n",
              "      <td>16.672857</td>\n",
              "      <td>2.428571</td>\n",
              "      <td>27.471429</td>\n",
              "      <td>6.771429</td>\n",
              "      <td>33.3</td>\n",
              "      <td>23.3</td>\n",
              "      <td>4.0</td>\n",
              "    </tr>\n",
              "    <tr>\n",
              "      <th>4</th>\n",
              "      <td>sj</td>\n",
              "      <td>1990</td>\n",
              "      <td>22</td>\n",
              "      <td>1990-05-28</td>\n",
              "      <td>0.196200</td>\n",
              "      <td>0.262200</td>\n",
              "      <td>0.251200</td>\n",
              "      <td>0.247340</td>\n",
              "      <td>7.52</td>\n",
              "      <td>299.518571</td>\n",
              "      <td>299.664286</td>\n",
              "      <td>295.821429</td>\n",
              "      <td>301.9</td>\n",
              "      <td>297.5</td>\n",
              "      <td>12.20</td>\n",
              "      <td>80.460000</td>\n",
              "      <td>7.52</td>\n",
              "      <td>17.210000</td>\n",
              "      <td>3.014286</td>\n",
              "      <td>28.942857</td>\n",
              "      <td>9.371429</td>\n",
              "      <td>35.0</td>\n",
              "      <td>23.9</td>\n",
              "      <td>5.8</td>\n",
              "    </tr>\n",
              "  </tbody>\n",
              "</table>\n",
              "</div>"
            ],
            "text/plain": [
              "  city  year  ...  station_min_temp_c station_precip_mm\n",
              "0   sj  1990  ...                20.0              16.0\n",
              "1   sj  1990  ...                22.2               8.6\n",
              "2   sj  1990  ...                22.8              41.4\n",
              "3   sj  1990  ...                23.3               4.0\n",
              "4   sj  1990  ...                23.9               5.8\n",
              "\n",
              "[5 rows x 24 columns]"
            ]
          },
          "metadata": {},
          "execution_count": 7
        }
      ]
    },
    {
      "cell_type": "code",
      "metadata": {
        "colab": {
          "base_uri": "https://localhost:8080/",
          "height": 0
        },
        "id": "D7sNvaIc1GRV",
        "outputId": "127c0dbd-164c-4b63-f5ac-c5e78218b3a0"
      },
      "source": [
        "df2= pd.read_csv('dengue_labels_train.csv')\n",
        "df2.head(5)"
      ],
      "execution_count": 8,
      "outputs": [
        {
          "output_type": "execute_result",
          "data": {
            "text/html": [
              "<div>\n",
              "<style scoped>\n",
              "    .dataframe tbody tr th:only-of-type {\n",
              "        vertical-align: middle;\n",
              "    }\n",
              "\n",
              "    .dataframe tbody tr th {\n",
              "        vertical-align: top;\n",
              "    }\n",
              "\n",
              "    .dataframe thead th {\n",
              "        text-align: right;\n",
              "    }\n",
              "</style>\n",
              "<table border=\"1\" class=\"dataframe\">\n",
              "  <thead>\n",
              "    <tr style=\"text-align: right;\">\n",
              "      <th></th>\n",
              "      <th>city</th>\n",
              "      <th>year</th>\n",
              "      <th>weekofyear</th>\n",
              "      <th>total_cases</th>\n",
              "    </tr>\n",
              "  </thead>\n",
              "  <tbody>\n",
              "    <tr>\n",
              "      <th>0</th>\n",
              "      <td>sj</td>\n",
              "      <td>1990</td>\n",
              "      <td>18</td>\n",
              "      <td>4</td>\n",
              "    </tr>\n",
              "    <tr>\n",
              "      <th>1</th>\n",
              "      <td>sj</td>\n",
              "      <td>1990</td>\n",
              "      <td>19</td>\n",
              "      <td>5</td>\n",
              "    </tr>\n",
              "    <tr>\n",
              "      <th>2</th>\n",
              "      <td>sj</td>\n",
              "      <td>1990</td>\n",
              "      <td>20</td>\n",
              "      <td>4</td>\n",
              "    </tr>\n",
              "    <tr>\n",
              "      <th>3</th>\n",
              "      <td>sj</td>\n",
              "      <td>1990</td>\n",
              "      <td>21</td>\n",
              "      <td>3</td>\n",
              "    </tr>\n",
              "    <tr>\n",
              "      <th>4</th>\n",
              "      <td>sj</td>\n",
              "      <td>1990</td>\n",
              "      <td>22</td>\n",
              "      <td>6</td>\n",
              "    </tr>\n",
              "  </tbody>\n",
              "</table>\n",
              "</div>"
            ],
            "text/plain": [
              "  city  year  weekofyear  total_cases\n",
              "0   sj  1990          18            4\n",
              "1   sj  1990          19            5\n",
              "2   sj  1990          20            4\n",
              "3   sj  1990          21            3\n",
              "4   sj  1990          22            6"
            ]
          },
          "metadata": {},
          "execution_count": 8
        }
      ]
    },
    {
      "cell_type": "markdown",
      "metadata": {
        "id": "n0RomvarjH5x"
      },
      "source": [
        "\n",
        "**Indicadores de ciudad y fecha**<br>\n",
        "•\tcity- Abreviaturas de la ciudad: sjpara San Juan y iqpara Iquitos<br>\n",
        "•\tweek_start_date - Fecha dada en formato aaaa-mm-dd<br>\n",
        "**Mediciones diarias de la estación meteorológica de datos climáticos GHCN de la NOAA**<br>\n",
        "•\tstation_max_temp_c - Temperatura máxima<br>\n",
        "•\tstation_min_temp_c - Temperatura mínima<br>\n",
        "•\tstation_avg_temp_c - Temperatura media<br>\n",
        "•\tstation_precip_mm - Precipitación total<br>\n",
        "•\tstation_diur_temp_rng_c - Rango de temperatura diurna<br>\n",
        "**Medidas de precipitación por satélite PERSIANN (escala de 0,25x0,25 grados**)<br>\n",
        "•\tprecipitation_amt_mm - Precipitación total<br>\n",
        "**Mediciones de reanálisis del sistema de pronóstico climático NCEP de NOAA (escala de 0.5x0.5 grados)**<br>\n",
        "•\treanalysis_sat_precip_amt_mm - Precipitación total<br>\n",
        "•\treanalysis_dew_point_temp_k - Temperatura media del punto de rocío<br>\n",
        "•\treanalysis_air_temp_k - Temperatura media del aire<br>\n",
        "•\treanalysis_relative_humidity_percent - Humedad relativa media<br>\n",
        "•\treanalysis_specific_humidity_g_per_kg - Humedad media específica<br>\n",
        "•\treanalysis_precip_amt_kg_per_m2 - Precipitación total<br>\n",
        "•\treanalysis_max_air_temp_k - Temperatura máxima del aire<br>\n",
        "•\treanalysis_min_air_temp_k - Temperatura mínima del aire<br>\n",
        "•\treanalysis_avg_temp_k - Temperatura media del aire<br>\n",
        "•\treanalysis_tdtr_k - Rango de temperatura diurna<br>\n",
        "**Vegetación satelital - Índice de vegetación de diferencia normalizada (NDVI) - Medidas del índice de vegetación de diferencia normalizada CDR de NOAA (escala de 0.5x0.5 grados**)<br>\n",
        "•\tndvi_se - Pixel al sureste del centroide de la ciudad<br>\n",
        "•\tndvi_sw - Pixel al suroeste del centroide de la ciudad<br>\n",
        "•\tndvi_ne - Pixel al noreste del centroide de la ciudad<br>\n",
        "•\tndvi_nw - Pixel al noroeste del centroide de la ciudad<br>\n",
        "\n",
        "\n"
      ]
    },
    {
      "cell_type": "markdown",
      "metadata": {
        "id": "OJKxPOJEzSsm"
      },
      "source": [
        "Cargamos tambien el archivo de test"
      ]
    },
    {
      "cell_type": "code",
      "metadata": {
        "colab": {
          "base_uri": "https://localhost:8080/",
          "height": 0
        },
        "id": "MJCwMQPjywbz",
        "outputId": "9f7b0587-6965-4d85-b58f-2eed4f1dc43a"
      },
      "source": [
        "df_test= pd.read_csv('dengue_features_test.csv')\n",
        "df_test.head(5)"
      ],
      "execution_count": 9,
      "outputs": [
        {
          "output_type": "execute_result",
          "data": {
            "text/html": [
              "<div>\n",
              "<style scoped>\n",
              "    .dataframe tbody tr th:only-of-type {\n",
              "        vertical-align: middle;\n",
              "    }\n",
              "\n",
              "    .dataframe tbody tr th {\n",
              "        vertical-align: top;\n",
              "    }\n",
              "\n",
              "    .dataframe thead th {\n",
              "        text-align: right;\n",
              "    }\n",
              "</style>\n",
              "<table border=\"1\" class=\"dataframe\">\n",
              "  <thead>\n",
              "    <tr style=\"text-align: right;\">\n",
              "      <th></th>\n",
              "      <th>city</th>\n",
              "      <th>year</th>\n",
              "      <th>weekofyear</th>\n",
              "      <th>week_start_date</th>\n",
              "      <th>ndvi_ne</th>\n",
              "      <th>ndvi_nw</th>\n",
              "      <th>ndvi_se</th>\n",
              "      <th>ndvi_sw</th>\n",
              "      <th>precipitation_amt_mm</th>\n",
              "      <th>reanalysis_air_temp_k</th>\n",
              "      <th>reanalysis_avg_temp_k</th>\n",
              "      <th>reanalysis_dew_point_temp_k</th>\n",
              "      <th>reanalysis_max_air_temp_k</th>\n",
              "      <th>reanalysis_min_air_temp_k</th>\n",
              "      <th>reanalysis_precip_amt_kg_per_m2</th>\n",
              "      <th>reanalysis_relative_humidity_percent</th>\n",
              "      <th>reanalysis_sat_precip_amt_mm</th>\n",
              "      <th>reanalysis_specific_humidity_g_per_kg</th>\n",
              "      <th>reanalysis_tdtr_k</th>\n",
              "      <th>station_avg_temp_c</th>\n",
              "      <th>station_diur_temp_rng_c</th>\n",
              "      <th>station_max_temp_c</th>\n",
              "      <th>station_min_temp_c</th>\n",
              "      <th>station_precip_mm</th>\n",
              "    </tr>\n",
              "  </thead>\n",
              "  <tbody>\n",
              "    <tr>\n",
              "      <th>0</th>\n",
              "      <td>sj</td>\n",
              "      <td>2008</td>\n",
              "      <td>18</td>\n",
              "      <td>2008-04-29</td>\n",
              "      <td>-0.0189</td>\n",
              "      <td>-0.018900</td>\n",
              "      <td>0.102729</td>\n",
              "      <td>0.091200</td>\n",
              "      <td>78.60</td>\n",
              "      <td>298.492857</td>\n",
              "      <td>298.550000</td>\n",
              "      <td>294.527143</td>\n",
              "      <td>301.1</td>\n",
              "      <td>296.4</td>\n",
              "      <td>25.37</td>\n",
              "      <td>78.781429</td>\n",
              "      <td>78.60</td>\n",
              "      <td>15.918571</td>\n",
              "      <td>3.128571</td>\n",
              "      <td>26.528571</td>\n",
              "      <td>7.057143</td>\n",
              "      <td>33.3</td>\n",
              "      <td>21.7</td>\n",
              "      <td>75.2</td>\n",
              "    </tr>\n",
              "    <tr>\n",
              "      <th>1</th>\n",
              "      <td>sj</td>\n",
              "      <td>2008</td>\n",
              "      <td>19</td>\n",
              "      <td>2008-05-06</td>\n",
              "      <td>-0.0180</td>\n",
              "      <td>-0.012400</td>\n",
              "      <td>0.082043</td>\n",
              "      <td>0.072314</td>\n",
              "      <td>12.56</td>\n",
              "      <td>298.475714</td>\n",
              "      <td>298.557143</td>\n",
              "      <td>294.395714</td>\n",
              "      <td>300.8</td>\n",
              "      <td>296.7</td>\n",
              "      <td>21.83</td>\n",
              "      <td>78.230000</td>\n",
              "      <td>12.56</td>\n",
              "      <td>15.791429</td>\n",
              "      <td>2.571429</td>\n",
              "      <td>26.071429</td>\n",
              "      <td>5.557143</td>\n",
              "      <td>30.0</td>\n",
              "      <td>22.2</td>\n",
              "      <td>34.3</td>\n",
              "    </tr>\n",
              "    <tr>\n",
              "      <th>2</th>\n",
              "      <td>sj</td>\n",
              "      <td>2008</td>\n",
              "      <td>20</td>\n",
              "      <td>2008-05-13</td>\n",
              "      <td>-0.0015</td>\n",
              "      <td>NaN</td>\n",
              "      <td>0.151083</td>\n",
              "      <td>0.091529</td>\n",
              "      <td>3.66</td>\n",
              "      <td>299.455714</td>\n",
              "      <td>299.357143</td>\n",
              "      <td>295.308571</td>\n",
              "      <td>302.2</td>\n",
              "      <td>296.4</td>\n",
              "      <td>4.12</td>\n",
              "      <td>78.270000</td>\n",
              "      <td>3.66</td>\n",
              "      <td>16.674286</td>\n",
              "      <td>4.428571</td>\n",
              "      <td>27.928571</td>\n",
              "      <td>7.785714</td>\n",
              "      <td>32.8</td>\n",
              "      <td>22.8</td>\n",
              "      <td>3.0</td>\n",
              "    </tr>\n",
              "    <tr>\n",
              "      <th>3</th>\n",
              "      <td>sj</td>\n",
              "      <td>2008</td>\n",
              "      <td>21</td>\n",
              "      <td>2008-05-20</td>\n",
              "      <td>NaN</td>\n",
              "      <td>-0.019867</td>\n",
              "      <td>0.124329</td>\n",
              "      <td>0.125686</td>\n",
              "      <td>0.00</td>\n",
              "      <td>299.690000</td>\n",
              "      <td>299.728571</td>\n",
              "      <td>294.402857</td>\n",
              "      <td>303.0</td>\n",
              "      <td>296.9</td>\n",
              "      <td>2.20</td>\n",
              "      <td>73.015714</td>\n",
              "      <td>0.00</td>\n",
              "      <td>15.775714</td>\n",
              "      <td>4.342857</td>\n",
              "      <td>28.057143</td>\n",
              "      <td>6.271429</td>\n",
              "      <td>33.3</td>\n",
              "      <td>24.4</td>\n",
              "      <td>0.3</td>\n",
              "    </tr>\n",
              "    <tr>\n",
              "      <th>4</th>\n",
              "      <td>sj</td>\n",
              "      <td>2008</td>\n",
              "      <td>22</td>\n",
              "      <td>2008-05-27</td>\n",
              "      <td>0.0568</td>\n",
              "      <td>0.039833</td>\n",
              "      <td>0.062267</td>\n",
              "      <td>0.075914</td>\n",
              "      <td>0.76</td>\n",
              "      <td>299.780000</td>\n",
              "      <td>299.671429</td>\n",
              "      <td>294.760000</td>\n",
              "      <td>302.3</td>\n",
              "      <td>297.3</td>\n",
              "      <td>4.36</td>\n",
              "      <td>74.084286</td>\n",
              "      <td>0.76</td>\n",
              "      <td>16.137143</td>\n",
              "      <td>3.542857</td>\n",
              "      <td>27.614286</td>\n",
              "      <td>7.085714</td>\n",
              "      <td>33.3</td>\n",
              "      <td>23.3</td>\n",
              "      <td>84.1</td>\n",
              "    </tr>\n",
              "  </tbody>\n",
              "</table>\n",
              "</div>"
            ],
            "text/plain": [
              "  city  year  ...  station_min_temp_c station_precip_mm\n",
              "0   sj  2008  ...                21.7              75.2\n",
              "1   sj  2008  ...                22.2              34.3\n",
              "2   sj  2008  ...                22.8               3.0\n",
              "3   sj  2008  ...                24.4               0.3\n",
              "4   sj  2008  ...                23.3              84.1\n",
              "\n",
              "[5 rows x 24 columns]"
            ]
          },
          "metadata": {},
          "execution_count": 9
        }
      ]
    },
    {
      "cell_type": "markdown",
      "metadata": {
        "id": "JOa0uuzdyFh9"
      },
      "source": [
        "# Preprocesado de datos\n",
        "\n",
        "En este apartado se vera de manera general la informacion del dataset"
      ]
    },
    {
      "cell_type": "markdown",
      "metadata": {
        "id": "xIpXEAlglEmt"
      },
      "source": [
        "##Datos"
      ]
    },
    {
      "cell_type": "markdown",
      "metadata": {
        "id": "NzigVcc7XUKK"
      },
      "source": [
        "Se usa el método .info() para obtener datos crudos sobre los atributos del dataset y su contenido"
      ]
    },
    {
      "cell_type": "code",
      "metadata": {
        "colab": {
          "base_uri": "https://localhost:8080/"
        },
        "id": "MHFVMnZ9bPPF",
        "outputId": "fd99147e-c9c6-46d1-f485-10d688dc3379"
      },
      "source": [
        "# Vista de los tipos de datos y datos básicos\n",
        "\n",
        "df1.info()\n",
        "\n",
        "print(\"-------------------------------------\")\n",
        "print(f\"Cantidad de filas: {df1.shape[0]}\")\n",
        "print(f\"Cantidad de columnas: {df1.shape[1]}\")"
      ],
      "execution_count": 10,
      "outputs": [
        {
          "output_type": "stream",
          "name": "stdout",
          "text": [
            "<class 'pandas.core.frame.DataFrame'>\n",
            "RangeIndex: 1456 entries, 0 to 1455\n",
            "Data columns (total 24 columns):\n",
            " #   Column                                 Non-Null Count  Dtype  \n",
            "---  ------                                 --------------  -----  \n",
            " 0   city                                   1456 non-null   object \n",
            " 1   year                                   1456 non-null   int64  \n",
            " 2   weekofyear                             1456 non-null   int64  \n",
            " 3   week_start_date                        1456 non-null   object \n",
            " 4   ndvi_ne                                1262 non-null   float64\n",
            " 5   ndvi_nw                                1404 non-null   float64\n",
            " 6   ndvi_se                                1434 non-null   float64\n",
            " 7   ndvi_sw                                1434 non-null   float64\n",
            " 8   precipitation_amt_mm                   1443 non-null   float64\n",
            " 9   reanalysis_air_temp_k                  1446 non-null   float64\n",
            " 10  reanalysis_avg_temp_k                  1446 non-null   float64\n",
            " 11  reanalysis_dew_point_temp_k            1446 non-null   float64\n",
            " 12  reanalysis_max_air_temp_k              1446 non-null   float64\n",
            " 13  reanalysis_min_air_temp_k              1446 non-null   float64\n",
            " 14  reanalysis_precip_amt_kg_per_m2        1446 non-null   float64\n",
            " 15  reanalysis_relative_humidity_percent   1446 non-null   float64\n",
            " 16  reanalysis_sat_precip_amt_mm           1443 non-null   float64\n",
            " 17  reanalysis_specific_humidity_g_per_kg  1446 non-null   float64\n",
            " 18  reanalysis_tdtr_k                      1446 non-null   float64\n",
            " 19  station_avg_temp_c                     1413 non-null   float64\n",
            " 20  station_diur_temp_rng_c                1413 non-null   float64\n",
            " 21  station_max_temp_c                     1436 non-null   float64\n",
            " 22  station_min_temp_c                     1442 non-null   float64\n",
            " 23  station_precip_mm                      1434 non-null   float64\n",
            "dtypes: float64(20), int64(2), object(2)\n",
            "memory usage: 273.1+ KB\n",
            "-------------------------------------\n",
            "Cantidad de filas: 1456\n",
            "Cantidad de columnas: 24\n"
          ]
        }
      ]
    },
    {
      "cell_type": "code",
      "metadata": {
        "colab": {
          "base_uri": "https://localhost:8080/"
        },
        "id": "dV2ec2nM1h5B",
        "outputId": "ce530296-83e8-478b-fb7f-68c16b3d933e"
      },
      "source": [
        "df2.info()\n",
        "\n",
        "print(\"-------------------------------------\")\n",
        "print(f\"Cantidad de filas: {df2.shape[0]}\")\n",
        "print(f\"Cantidad de columnas: {df2.shape[1]}\")"
      ],
      "execution_count": 11,
      "outputs": [
        {
          "output_type": "stream",
          "name": "stdout",
          "text": [
            "<class 'pandas.core.frame.DataFrame'>\n",
            "RangeIndex: 1456 entries, 0 to 1455\n",
            "Data columns (total 4 columns):\n",
            " #   Column       Non-Null Count  Dtype \n",
            "---  ------       --------------  ----- \n",
            " 0   city         1456 non-null   object\n",
            " 1   year         1456 non-null   int64 \n",
            " 2   weekofyear   1456 non-null   int64 \n",
            " 3   total_cases  1456 non-null   int64 \n",
            "dtypes: int64(3), object(1)\n",
            "memory usage: 45.6+ KB\n",
            "-------------------------------------\n",
            "Cantidad de filas: 1456\n",
            "Cantidad de columnas: 4\n"
          ]
        }
      ]
    },
    {
      "cell_type": "code",
      "metadata": {
        "colab": {
          "base_uri": "https://localhost:8080/",
          "height": 0
        },
        "id": "KhAYb2_z1QaY",
        "outputId": "e6dc0929-70a7-4cc9-a3d2-69fe6adf2fa6"
      },
      "source": [
        "#una vez comprobado que tiene el mismo numero de filas, unimos los dos dataset\n",
        "df=pd.merge(df1,df2,on=['city', 'year', 'weekofyear'])\n",
        "df.head(5)"
      ],
      "execution_count": 12,
      "outputs": [
        {
          "output_type": "execute_result",
          "data": {
            "text/html": [
              "<div>\n",
              "<style scoped>\n",
              "    .dataframe tbody tr th:only-of-type {\n",
              "        vertical-align: middle;\n",
              "    }\n",
              "\n",
              "    .dataframe tbody tr th {\n",
              "        vertical-align: top;\n",
              "    }\n",
              "\n",
              "    .dataframe thead th {\n",
              "        text-align: right;\n",
              "    }\n",
              "</style>\n",
              "<table border=\"1\" class=\"dataframe\">\n",
              "  <thead>\n",
              "    <tr style=\"text-align: right;\">\n",
              "      <th></th>\n",
              "      <th>city</th>\n",
              "      <th>year</th>\n",
              "      <th>weekofyear</th>\n",
              "      <th>week_start_date</th>\n",
              "      <th>ndvi_ne</th>\n",
              "      <th>ndvi_nw</th>\n",
              "      <th>ndvi_se</th>\n",
              "      <th>ndvi_sw</th>\n",
              "      <th>precipitation_amt_mm</th>\n",
              "      <th>reanalysis_air_temp_k</th>\n",
              "      <th>reanalysis_avg_temp_k</th>\n",
              "      <th>reanalysis_dew_point_temp_k</th>\n",
              "      <th>reanalysis_max_air_temp_k</th>\n",
              "      <th>reanalysis_min_air_temp_k</th>\n",
              "      <th>reanalysis_precip_amt_kg_per_m2</th>\n",
              "      <th>reanalysis_relative_humidity_percent</th>\n",
              "      <th>reanalysis_sat_precip_amt_mm</th>\n",
              "      <th>reanalysis_specific_humidity_g_per_kg</th>\n",
              "      <th>reanalysis_tdtr_k</th>\n",
              "      <th>station_avg_temp_c</th>\n",
              "      <th>station_diur_temp_rng_c</th>\n",
              "      <th>station_max_temp_c</th>\n",
              "      <th>station_min_temp_c</th>\n",
              "      <th>station_precip_mm</th>\n",
              "      <th>total_cases</th>\n",
              "    </tr>\n",
              "  </thead>\n",
              "  <tbody>\n",
              "    <tr>\n",
              "      <th>0</th>\n",
              "      <td>sj</td>\n",
              "      <td>1990</td>\n",
              "      <td>18</td>\n",
              "      <td>1990-04-30</td>\n",
              "      <td>0.122600</td>\n",
              "      <td>0.103725</td>\n",
              "      <td>0.198483</td>\n",
              "      <td>0.177617</td>\n",
              "      <td>12.42</td>\n",
              "      <td>297.572857</td>\n",
              "      <td>297.742857</td>\n",
              "      <td>292.414286</td>\n",
              "      <td>299.8</td>\n",
              "      <td>295.9</td>\n",
              "      <td>32.00</td>\n",
              "      <td>73.365714</td>\n",
              "      <td>12.42</td>\n",
              "      <td>14.012857</td>\n",
              "      <td>2.628571</td>\n",
              "      <td>25.442857</td>\n",
              "      <td>6.900000</td>\n",
              "      <td>29.4</td>\n",
              "      <td>20.0</td>\n",
              "      <td>16.0</td>\n",
              "      <td>4</td>\n",
              "    </tr>\n",
              "    <tr>\n",
              "      <th>1</th>\n",
              "      <td>sj</td>\n",
              "      <td>1990</td>\n",
              "      <td>19</td>\n",
              "      <td>1990-05-07</td>\n",
              "      <td>0.169900</td>\n",
              "      <td>0.142175</td>\n",
              "      <td>0.162357</td>\n",
              "      <td>0.155486</td>\n",
              "      <td>22.82</td>\n",
              "      <td>298.211429</td>\n",
              "      <td>298.442857</td>\n",
              "      <td>293.951429</td>\n",
              "      <td>300.9</td>\n",
              "      <td>296.4</td>\n",
              "      <td>17.94</td>\n",
              "      <td>77.368571</td>\n",
              "      <td>22.82</td>\n",
              "      <td>15.372857</td>\n",
              "      <td>2.371429</td>\n",
              "      <td>26.714286</td>\n",
              "      <td>6.371429</td>\n",
              "      <td>31.7</td>\n",
              "      <td>22.2</td>\n",
              "      <td>8.6</td>\n",
              "      <td>5</td>\n",
              "    </tr>\n",
              "    <tr>\n",
              "      <th>2</th>\n",
              "      <td>sj</td>\n",
              "      <td>1990</td>\n",
              "      <td>20</td>\n",
              "      <td>1990-05-14</td>\n",
              "      <td>0.032250</td>\n",
              "      <td>0.172967</td>\n",
              "      <td>0.157200</td>\n",
              "      <td>0.170843</td>\n",
              "      <td>34.54</td>\n",
              "      <td>298.781429</td>\n",
              "      <td>298.878571</td>\n",
              "      <td>295.434286</td>\n",
              "      <td>300.5</td>\n",
              "      <td>297.3</td>\n",
              "      <td>26.10</td>\n",
              "      <td>82.052857</td>\n",
              "      <td>34.54</td>\n",
              "      <td>16.848571</td>\n",
              "      <td>2.300000</td>\n",
              "      <td>26.714286</td>\n",
              "      <td>6.485714</td>\n",
              "      <td>32.2</td>\n",
              "      <td>22.8</td>\n",
              "      <td>41.4</td>\n",
              "      <td>4</td>\n",
              "    </tr>\n",
              "    <tr>\n",
              "      <th>3</th>\n",
              "      <td>sj</td>\n",
              "      <td>1990</td>\n",
              "      <td>21</td>\n",
              "      <td>1990-05-21</td>\n",
              "      <td>0.128633</td>\n",
              "      <td>0.245067</td>\n",
              "      <td>0.227557</td>\n",
              "      <td>0.235886</td>\n",
              "      <td>15.36</td>\n",
              "      <td>298.987143</td>\n",
              "      <td>299.228571</td>\n",
              "      <td>295.310000</td>\n",
              "      <td>301.4</td>\n",
              "      <td>297.0</td>\n",
              "      <td>13.90</td>\n",
              "      <td>80.337143</td>\n",
              "      <td>15.36</td>\n",
              "      <td>16.672857</td>\n",
              "      <td>2.428571</td>\n",
              "      <td>27.471429</td>\n",
              "      <td>6.771429</td>\n",
              "      <td>33.3</td>\n",
              "      <td>23.3</td>\n",
              "      <td>4.0</td>\n",
              "      <td>3</td>\n",
              "    </tr>\n",
              "    <tr>\n",
              "      <th>4</th>\n",
              "      <td>sj</td>\n",
              "      <td>1990</td>\n",
              "      <td>22</td>\n",
              "      <td>1990-05-28</td>\n",
              "      <td>0.196200</td>\n",
              "      <td>0.262200</td>\n",
              "      <td>0.251200</td>\n",
              "      <td>0.247340</td>\n",
              "      <td>7.52</td>\n",
              "      <td>299.518571</td>\n",
              "      <td>299.664286</td>\n",
              "      <td>295.821429</td>\n",
              "      <td>301.9</td>\n",
              "      <td>297.5</td>\n",
              "      <td>12.20</td>\n",
              "      <td>80.460000</td>\n",
              "      <td>7.52</td>\n",
              "      <td>17.210000</td>\n",
              "      <td>3.014286</td>\n",
              "      <td>28.942857</td>\n",
              "      <td>9.371429</td>\n",
              "      <td>35.0</td>\n",
              "      <td>23.9</td>\n",
              "      <td>5.8</td>\n",
              "      <td>6</td>\n",
              "    </tr>\n",
              "  </tbody>\n",
              "</table>\n",
              "</div>"
            ],
            "text/plain": [
              "  city  year  weekofyear  ... station_min_temp_c  station_precip_mm  total_cases\n",
              "0   sj  1990          18  ...               20.0               16.0            4\n",
              "1   sj  1990          19  ...               22.2                8.6            5\n",
              "2   sj  1990          20  ...               22.8               41.4            4\n",
              "3   sj  1990          21  ...               23.3                4.0            3\n",
              "4   sj  1990          22  ...               23.9                5.8            6\n",
              "\n",
              "[5 rows x 25 columns]"
            ]
          },
          "metadata": {},
          "execution_count": 12
        }
      ]
    },
    {
      "cell_type": "code",
      "metadata": {
        "colab": {
          "base_uri": "https://localhost:8080/",
          "height": 0
        },
        "id": "aTRuGEnxmoTF",
        "outputId": "a638d2db-8fdd-4c70-9a47-ba2a874faf75"
      },
      "source": [
        "#cambiando temperatura\n",
        "temperature_kelvin = [i for i in df.columns if i.find('_temp_k') > -1]\n",
        "temperature_kelvin\n",
        "for i in temperature_kelvin:\n",
        "    df[i] = df[i] - 273.15\n",
        "#se cambia el nombre a la variable\n",
        "df.columns = [i.replace('_temp_k', '_temp_c') \n",
        "                           for i in df.columns if i.find('_temp_k')]\n",
        "df.describe().T"
      ],
      "execution_count": 13,
      "outputs": [
        {
          "output_type": "execute_result",
          "data": {
            "text/html": [
              "<div>\n",
              "<style scoped>\n",
              "    .dataframe tbody tr th:only-of-type {\n",
              "        vertical-align: middle;\n",
              "    }\n",
              "\n",
              "    .dataframe tbody tr th {\n",
              "        vertical-align: top;\n",
              "    }\n",
              "\n",
              "    .dataframe thead th {\n",
              "        text-align: right;\n",
              "    }\n",
              "</style>\n",
              "<table border=\"1\" class=\"dataframe\">\n",
              "  <thead>\n",
              "    <tr style=\"text-align: right;\">\n",
              "      <th></th>\n",
              "      <th>count</th>\n",
              "      <th>mean</th>\n",
              "      <th>std</th>\n",
              "      <th>min</th>\n",
              "      <th>25%</th>\n",
              "      <th>50%</th>\n",
              "      <th>75%</th>\n",
              "      <th>max</th>\n",
              "    </tr>\n",
              "  </thead>\n",
              "  <tbody>\n",
              "    <tr>\n",
              "      <th>year</th>\n",
              "      <td>1456.0</td>\n",
              "      <td>2001.031593</td>\n",
              "      <td>5.408314</td>\n",
              "      <td>1990.000000</td>\n",
              "      <td>1997.000000</td>\n",
              "      <td>2002.000000</td>\n",
              "      <td>2005.000000</td>\n",
              "      <td>2010.000000</td>\n",
              "    </tr>\n",
              "    <tr>\n",
              "      <th>weekofyear</th>\n",
              "      <td>1456.0</td>\n",
              "      <td>26.503434</td>\n",
              "      <td>15.019437</td>\n",
              "      <td>1.000000</td>\n",
              "      <td>13.750000</td>\n",
              "      <td>26.500000</td>\n",
              "      <td>39.250000</td>\n",
              "      <td>53.000000</td>\n",
              "    </tr>\n",
              "    <tr>\n",
              "      <th>ndvi_ne</th>\n",
              "      <td>1262.0</td>\n",
              "      <td>0.142294</td>\n",
              "      <td>0.140531</td>\n",
              "      <td>-0.406250</td>\n",
              "      <td>0.044950</td>\n",
              "      <td>0.128817</td>\n",
              "      <td>0.248483</td>\n",
              "      <td>0.508357</td>\n",
              "    </tr>\n",
              "    <tr>\n",
              "      <th>ndvi_nw</th>\n",
              "      <td>1404.0</td>\n",
              "      <td>0.130553</td>\n",
              "      <td>0.119999</td>\n",
              "      <td>-0.456100</td>\n",
              "      <td>0.049217</td>\n",
              "      <td>0.121429</td>\n",
              "      <td>0.216600</td>\n",
              "      <td>0.454429</td>\n",
              "    </tr>\n",
              "    <tr>\n",
              "      <th>ndvi_se</th>\n",
              "      <td>1434.0</td>\n",
              "      <td>0.203783</td>\n",
              "      <td>0.073860</td>\n",
              "      <td>-0.015533</td>\n",
              "      <td>0.155087</td>\n",
              "      <td>0.196050</td>\n",
              "      <td>0.248846</td>\n",
              "      <td>0.538314</td>\n",
              "    </tr>\n",
              "    <tr>\n",
              "      <th>ndvi_sw</th>\n",
              "      <td>1434.0</td>\n",
              "      <td>0.202305</td>\n",
              "      <td>0.083903</td>\n",
              "      <td>-0.063457</td>\n",
              "      <td>0.144209</td>\n",
              "      <td>0.189450</td>\n",
              "      <td>0.246982</td>\n",
              "      <td>0.546017</td>\n",
              "    </tr>\n",
              "    <tr>\n",
              "      <th>precipitation_amt_mm</th>\n",
              "      <td>1443.0</td>\n",
              "      <td>45.760388</td>\n",
              "      <td>43.715537</td>\n",
              "      <td>0.000000</td>\n",
              "      <td>9.800000</td>\n",
              "      <td>38.340000</td>\n",
              "      <td>70.235000</td>\n",
              "      <td>390.600000</td>\n",
              "    </tr>\n",
              "    <tr>\n",
              "      <th>reanalysis_air_temp_c</th>\n",
              "      <td>1446.0</td>\n",
              "      <td>25.551852</td>\n",
              "      <td>1.362420</td>\n",
              "      <td>21.485714</td>\n",
              "      <td>24.508929</td>\n",
              "      <td>25.496429</td>\n",
              "      <td>26.683571</td>\n",
              "      <td>29.050000</td>\n",
              "    </tr>\n",
              "    <tr>\n",
              "      <th>reanalysis_avg_temp_c</th>\n",
              "      <td>1446.0</td>\n",
              "      <td>26.075578</td>\n",
              "      <td>1.261715</td>\n",
              "      <td>21.742857</td>\n",
              "      <td>25.107143</td>\n",
              "      <td>26.139286</td>\n",
              "      <td>27.057143</td>\n",
              "      <td>29.778571</td>\n",
              "    </tr>\n",
              "    <tr>\n",
              "      <th>reanalysis_dew_point_temp_c</th>\n",
              "      <td>1446.0</td>\n",
              "      <td>22.096356</td>\n",
              "      <td>1.527810</td>\n",
              "      <td>16.492857</td>\n",
              "      <td>20.968929</td>\n",
              "      <td>22.490714</td>\n",
              "      <td>23.310000</td>\n",
              "      <td>25.300000</td>\n",
              "    </tr>\n",
              "    <tr>\n",
              "      <th>reanalysis_max_air_temp_c</th>\n",
              "      <td>1446.0</td>\n",
              "      <td>30.277109</td>\n",
              "      <td>3.234601</td>\n",
              "      <td>24.650000</td>\n",
              "      <td>27.850000</td>\n",
              "      <td>29.250000</td>\n",
              "      <td>32.350000</td>\n",
              "      <td>40.850000</td>\n",
              "    </tr>\n",
              "    <tr>\n",
              "      <th>reanalysis_min_air_temp_c</th>\n",
              "      <td>1446.0</td>\n",
              "      <td>22.569156</td>\n",
              "      <td>2.565364</td>\n",
              "      <td>13.750000</td>\n",
              "      <td>20.750000</td>\n",
              "      <td>23.050000</td>\n",
              "      <td>24.750000</td>\n",
              "      <td>26.750000</td>\n",
              "    </tr>\n",
              "    <tr>\n",
              "      <th>reanalysis_precip_amt_kg_per_m2</th>\n",
              "      <td>1446.0</td>\n",
              "      <td>40.151819</td>\n",
              "      <td>43.434399</td>\n",
              "      <td>0.000000</td>\n",
              "      <td>13.055000</td>\n",
              "      <td>27.245000</td>\n",
              "      <td>52.200000</td>\n",
              "      <td>570.500000</td>\n",
              "    </tr>\n",
              "    <tr>\n",
              "      <th>reanalysis_relative_humidity_percent</th>\n",
              "      <td>1446.0</td>\n",
              "      <td>82.161959</td>\n",
              "      <td>7.153897</td>\n",
              "      <td>57.787143</td>\n",
              "      <td>77.177143</td>\n",
              "      <td>80.301429</td>\n",
              "      <td>86.357857</td>\n",
              "      <td>98.610000</td>\n",
              "    </tr>\n",
              "    <tr>\n",
              "      <th>reanalysis_sat_precip_amt_mm</th>\n",
              "      <td>1443.0</td>\n",
              "      <td>45.760388</td>\n",
              "      <td>43.715537</td>\n",
              "      <td>0.000000</td>\n",
              "      <td>9.800000</td>\n",
              "      <td>38.340000</td>\n",
              "      <td>70.235000</td>\n",
              "      <td>390.600000</td>\n",
              "    </tr>\n",
              "    <tr>\n",
              "      <th>reanalysis_specific_humidity_g_per_kg</th>\n",
              "      <td>1446.0</td>\n",
              "      <td>16.746427</td>\n",
              "      <td>1.542494</td>\n",
              "      <td>11.715714</td>\n",
              "      <td>15.557143</td>\n",
              "      <td>17.087143</td>\n",
              "      <td>17.978214</td>\n",
              "      <td>20.461429</td>\n",
              "    </tr>\n",
              "    <tr>\n",
              "      <th>reanalysis_tdtr_k</th>\n",
              "      <td>1446.0</td>\n",
              "      <td>4.903754</td>\n",
              "      <td>3.546445</td>\n",
              "      <td>1.357143</td>\n",
              "      <td>2.328571</td>\n",
              "      <td>2.857143</td>\n",
              "      <td>7.625000</td>\n",
              "      <td>16.028571</td>\n",
              "    </tr>\n",
              "    <tr>\n",
              "      <th>station_avg_temp_c</th>\n",
              "      <td>1413.0</td>\n",
              "      <td>27.185783</td>\n",
              "      <td>1.292347</td>\n",
              "      <td>21.400000</td>\n",
              "      <td>26.300000</td>\n",
              "      <td>27.414286</td>\n",
              "      <td>28.157143</td>\n",
              "      <td>30.800000</td>\n",
              "    </tr>\n",
              "    <tr>\n",
              "      <th>station_diur_temp_rng_c</th>\n",
              "      <td>1413.0</td>\n",
              "      <td>8.059328</td>\n",
              "      <td>2.128568</td>\n",
              "      <td>4.528571</td>\n",
              "      <td>6.514286</td>\n",
              "      <td>7.300000</td>\n",
              "      <td>9.566667</td>\n",
              "      <td>15.800000</td>\n",
              "    </tr>\n",
              "    <tr>\n",
              "      <th>station_max_temp_c</th>\n",
              "      <td>1436.0</td>\n",
              "      <td>32.452437</td>\n",
              "      <td>1.959318</td>\n",
              "      <td>26.700000</td>\n",
              "      <td>31.100000</td>\n",
              "      <td>32.800000</td>\n",
              "      <td>33.900000</td>\n",
              "      <td>42.200000</td>\n",
              "    </tr>\n",
              "    <tr>\n",
              "      <th>station_min_temp_c</th>\n",
              "      <td>1442.0</td>\n",
              "      <td>22.102150</td>\n",
              "      <td>1.574066</td>\n",
              "      <td>14.700000</td>\n",
              "      <td>21.100000</td>\n",
              "      <td>22.200000</td>\n",
              "      <td>23.300000</td>\n",
              "      <td>25.600000</td>\n",
              "    </tr>\n",
              "    <tr>\n",
              "      <th>station_precip_mm</th>\n",
              "      <td>1434.0</td>\n",
              "      <td>39.326360</td>\n",
              "      <td>47.455314</td>\n",
              "      <td>0.000000</td>\n",
              "      <td>8.700000</td>\n",
              "      <td>23.850000</td>\n",
              "      <td>53.900000</td>\n",
              "      <td>543.300000</td>\n",
              "    </tr>\n",
              "    <tr>\n",
              "      <th>total_cases</th>\n",
              "      <td>1456.0</td>\n",
              "      <td>24.675137</td>\n",
              "      <td>43.596000</td>\n",
              "      <td>0.000000</td>\n",
              "      <td>5.000000</td>\n",
              "      <td>12.000000</td>\n",
              "      <td>28.000000</td>\n",
              "      <td>461.000000</td>\n",
              "    </tr>\n",
              "  </tbody>\n",
              "</table>\n",
              "</div>"
            ],
            "text/plain": [
              "                                        count  ...          max\n",
              "year                                   1456.0  ...  2010.000000\n",
              "weekofyear                             1456.0  ...    53.000000\n",
              "ndvi_ne                                1262.0  ...     0.508357\n",
              "ndvi_nw                                1404.0  ...     0.454429\n",
              "ndvi_se                                1434.0  ...     0.538314\n",
              "ndvi_sw                                1434.0  ...     0.546017\n",
              "precipitation_amt_mm                   1443.0  ...   390.600000\n",
              "reanalysis_air_temp_c                  1446.0  ...    29.050000\n",
              "reanalysis_avg_temp_c                  1446.0  ...    29.778571\n",
              "reanalysis_dew_point_temp_c            1446.0  ...    25.300000\n",
              "reanalysis_max_air_temp_c              1446.0  ...    40.850000\n",
              "reanalysis_min_air_temp_c              1446.0  ...    26.750000\n",
              "reanalysis_precip_amt_kg_per_m2        1446.0  ...   570.500000\n",
              "reanalysis_relative_humidity_percent   1446.0  ...    98.610000\n",
              "reanalysis_sat_precip_amt_mm           1443.0  ...   390.600000\n",
              "reanalysis_specific_humidity_g_per_kg  1446.0  ...    20.461429\n",
              "reanalysis_tdtr_k                      1446.0  ...    16.028571\n",
              "station_avg_temp_c                     1413.0  ...    30.800000\n",
              "station_diur_temp_rng_c                1413.0  ...    15.800000\n",
              "station_max_temp_c                     1436.0  ...    42.200000\n",
              "station_min_temp_c                     1442.0  ...    25.600000\n",
              "station_precip_mm                      1434.0  ...   543.300000\n",
              "total_cases                            1456.0  ...   461.000000\n",
              "\n",
              "[23 rows x 8 columns]"
            ]
          },
          "metadata": {},
          "execution_count": 13
        }
      ]
    },
    {
      "cell_type": "markdown",
      "metadata": {
        "id": "keoADZiGnnHG"
      },
      "source": [
        "eliminaremos la columna 'week_start_date' ya que no deberíamos usarla como una función en nuestro modelo."
      ]
    },
    {
      "cell_type": "code",
      "metadata": {
        "id": "a3jLZWuKnlUJ"
      },
      "source": [
        "df. drop ( 'week_start_date' ,  axis = 1 ,  inplace = True )"
      ],
      "execution_count": 14,
      "outputs": []
    },
    {
      "cell_type": "markdown",
      "metadata": {
        "id": "ROvS7pBZyjnO"
      },
      "source": [
        "Añadimos realizamos el preprocesado del archivo de test:"
      ]
    },
    {
      "cell_type": "code",
      "metadata": {
        "colab": {
          "base_uri": "https://localhost:8080/"
        },
        "id": "hNTSxAXJyqMn",
        "outputId": "11e2ef16-355a-435b-a3e3-d4cf7799b0a8"
      },
      "source": [
        "df_test.info()\n",
        "print(\"-------------------------------------\")\n",
        "print(f\"Cantidad de filas: {df_test.shape[0]}\")\n",
        "print(f\"Cantidad de columnas: {df_test.shape[1]}\")"
      ],
      "execution_count": 15,
      "outputs": [
        {
          "output_type": "stream",
          "name": "stdout",
          "text": [
            "<class 'pandas.core.frame.DataFrame'>\n",
            "RangeIndex: 416 entries, 0 to 415\n",
            "Data columns (total 24 columns):\n",
            " #   Column                                 Non-Null Count  Dtype  \n",
            "---  ------                                 --------------  -----  \n",
            " 0   city                                   416 non-null    object \n",
            " 1   year                                   416 non-null    int64  \n",
            " 2   weekofyear                             416 non-null    int64  \n",
            " 3   week_start_date                        416 non-null    object \n",
            " 4   ndvi_ne                                373 non-null    float64\n",
            " 5   ndvi_nw                                405 non-null    float64\n",
            " 6   ndvi_se                                415 non-null    float64\n",
            " 7   ndvi_sw                                415 non-null    float64\n",
            " 8   precipitation_amt_mm                   414 non-null    float64\n",
            " 9   reanalysis_air_temp_k                  414 non-null    float64\n",
            " 10  reanalysis_avg_temp_k                  414 non-null    float64\n",
            " 11  reanalysis_dew_point_temp_k            414 non-null    float64\n",
            " 12  reanalysis_max_air_temp_k              414 non-null    float64\n",
            " 13  reanalysis_min_air_temp_k              414 non-null    float64\n",
            " 14  reanalysis_precip_amt_kg_per_m2        414 non-null    float64\n",
            " 15  reanalysis_relative_humidity_percent   414 non-null    float64\n",
            " 16  reanalysis_sat_precip_amt_mm           414 non-null    float64\n",
            " 17  reanalysis_specific_humidity_g_per_kg  414 non-null    float64\n",
            " 18  reanalysis_tdtr_k                      414 non-null    float64\n",
            " 19  station_avg_temp_c                     404 non-null    float64\n",
            " 20  station_diur_temp_rng_c                404 non-null    float64\n",
            " 21  station_max_temp_c                     413 non-null    float64\n",
            " 22  station_min_temp_c                     407 non-null    float64\n",
            " 23  station_precip_mm                      411 non-null    float64\n",
            "dtypes: float64(20), int64(2), object(2)\n",
            "memory usage: 78.1+ KB\n",
            "-------------------------------------\n",
            "Cantidad de filas: 416\n",
            "Cantidad de columnas: 24\n"
          ]
        }
      ]
    },
    {
      "cell_type": "code",
      "metadata": {
        "colab": {
          "base_uri": "https://localhost:8080/",
          "height": 0
        },
        "id": "LqmJmLSR0Dxh",
        "outputId": "38e3af76-909a-4bb6-b6b5-5159ca140c7e"
      },
      "source": [
        "#cambiando temperatura\n",
        "temperature_kelvin = [i for i in df_test.columns if i.find('_temp_k') > -1]\n",
        "temperature_kelvin\n",
        "for i in temperature_kelvin:\n",
        "    df_test[i] = df_test[i] - 273.15\n",
        "#se cambia el nombre a la variable\n",
        "df_test.columns = [i.replace('_temp_k', '_temp_c') \n",
        "                           for i in df_test.columns if i.find('_temp_k')]\n",
        "df_test.describe().T"
      ],
      "execution_count": 16,
      "outputs": [
        {
          "output_type": "execute_result",
          "data": {
            "text/html": [
              "<div>\n",
              "<style scoped>\n",
              "    .dataframe tbody tr th:only-of-type {\n",
              "        vertical-align: middle;\n",
              "    }\n",
              "\n",
              "    .dataframe tbody tr th {\n",
              "        vertical-align: top;\n",
              "    }\n",
              "\n",
              "    .dataframe thead th {\n",
              "        text-align: right;\n",
              "    }\n",
              "</style>\n",
              "<table border=\"1\" class=\"dataframe\">\n",
              "  <thead>\n",
              "    <tr style=\"text-align: right;\">\n",
              "      <th></th>\n",
              "      <th>count</th>\n",
              "      <th>mean</th>\n",
              "      <th>std</th>\n",
              "      <th>min</th>\n",
              "      <th>25%</th>\n",
              "      <th>50%</th>\n",
              "      <th>75%</th>\n",
              "      <th>max</th>\n",
              "    </tr>\n",
              "  </thead>\n",
              "  <tbody>\n",
              "    <tr>\n",
              "      <th>year</th>\n",
              "      <td>416.0</td>\n",
              "      <td>2010.766827</td>\n",
              "      <td>1.434835</td>\n",
              "      <td>2008.000000</td>\n",
              "      <td>2010.000000</td>\n",
              "      <td>2011.000000</td>\n",
              "      <td>2012.000000</td>\n",
              "      <td>2013.000000</td>\n",
              "    </tr>\n",
              "    <tr>\n",
              "      <th>weekofyear</th>\n",
              "      <td>416.0</td>\n",
              "      <td>26.439904</td>\n",
              "      <td>14.978257</td>\n",
              "      <td>1.000000</td>\n",
              "      <td>13.750000</td>\n",
              "      <td>26.000000</td>\n",
              "      <td>39.000000</td>\n",
              "      <td>53.000000</td>\n",
              "    </tr>\n",
              "    <tr>\n",
              "      <th>ndvi_ne</th>\n",
              "      <td>373.0</td>\n",
              "      <td>0.126050</td>\n",
              "      <td>0.164353</td>\n",
              "      <td>-0.463400</td>\n",
              "      <td>-0.001500</td>\n",
              "      <td>0.110100</td>\n",
              "      <td>0.263329</td>\n",
              "      <td>0.500400</td>\n",
              "    </tr>\n",
              "    <tr>\n",
              "      <th>ndvi_nw</th>\n",
              "      <td>405.0</td>\n",
              "      <td>0.126803</td>\n",
              "      <td>0.141420</td>\n",
              "      <td>-0.211800</td>\n",
              "      <td>0.015975</td>\n",
              "      <td>0.088700</td>\n",
              "      <td>0.242400</td>\n",
              "      <td>0.649000</td>\n",
              "    </tr>\n",
              "    <tr>\n",
              "      <th>ndvi_se</th>\n",
              "      <td>415.0</td>\n",
              "      <td>0.207702</td>\n",
              "      <td>0.079102</td>\n",
              "      <td>0.006200</td>\n",
              "      <td>0.148670</td>\n",
              "      <td>0.204171</td>\n",
              "      <td>0.254871</td>\n",
              "      <td>0.453043</td>\n",
              "    </tr>\n",
              "    <tr>\n",
              "      <th>ndvi_sw</th>\n",
              "      <td>415.0</td>\n",
              "      <td>0.201721</td>\n",
              "      <td>0.092028</td>\n",
              "      <td>-0.014671</td>\n",
              "      <td>0.134079</td>\n",
              "      <td>0.186471</td>\n",
              "      <td>0.253243</td>\n",
              "      <td>0.529043</td>\n",
              "    </tr>\n",
              "    <tr>\n",
              "      <th>precipitation_amt_mm</th>\n",
              "      <td>414.0</td>\n",
              "      <td>38.354324</td>\n",
              "      <td>35.171126</td>\n",
              "      <td>0.000000</td>\n",
              "      <td>8.175000</td>\n",
              "      <td>31.455000</td>\n",
              "      <td>57.772500</td>\n",
              "      <td>169.340000</td>\n",
              "    </tr>\n",
              "    <tr>\n",
              "      <th>reanalysis_air_temp_c</th>\n",
              "      <td>414.0</td>\n",
              "      <td>25.668295</td>\n",
              "      <td>1.469501</td>\n",
              "      <td>21.404286</td>\n",
              "      <td>24.601429</td>\n",
              "      <td>25.397143</td>\n",
              "      <td>27.090357</td>\n",
              "      <td>28.785714</td>\n",
              "    </tr>\n",
              "    <tr>\n",
              "      <th>reanalysis_avg_temp_c</th>\n",
              "      <td>414.0</td>\n",
              "      <td>26.203071</td>\n",
              "      <td>1.306233</td>\n",
              "      <td>22.085714</td>\n",
              "      <td>25.173214</td>\n",
              "      <td>26.178571</td>\n",
              "      <td>27.371429</td>\n",
              "      <td>30.178571</td>\n",
              "    </tr>\n",
              "    <tr>\n",
              "      <th>reanalysis_dew_point_temp_c</th>\n",
              "      <td>414.0</td>\n",
              "      <td>22.269179</td>\n",
              "      <td>1.523099</td>\n",
              "      <td>17.668571</td>\n",
              "      <td>21.185714</td>\n",
              "      <td>22.675000</td>\n",
              "      <td>23.493571</td>\n",
              "      <td>24.644286</td>\n",
              "    </tr>\n",
              "    <tr>\n",
              "      <th>reanalysis_max_air_temp_c</th>\n",
              "      <td>414.0</td>\n",
              "      <td>30.473430</td>\n",
              "      <td>3.101817</td>\n",
              "      <td>25.050000</td>\n",
              "      <td>28.275000</td>\n",
              "      <td>29.600000</td>\n",
              "      <td>32.650000</td>\n",
              "      <td>40.950000</td>\n",
              "    </tr>\n",
              "    <tr>\n",
              "      <th>reanalysis_min_air_temp_c</th>\n",
              "      <td>414.0</td>\n",
              "      <td>22.593478</td>\n",
              "      <td>2.761109</td>\n",
              "      <td>13.050000</td>\n",
              "      <td>20.350000</td>\n",
              "      <td>23.150000</td>\n",
              "      <td>25.125000</td>\n",
              "      <td>26.550000</td>\n",
              "    </tr>\n",
              "    <tr>\n",
              "      <th>reanalysis_precip_amt_kg_per_m2</th>\n",
              "      <td>414.0</td>\n",
              "      <td>42.171135</td>\n",
              "      <td>48.909514</td>\n",
              "      <td>0.000000</td>\n",
              "      <td>9.430000</td>\n",
              "      <td>25.850000</td>\n",
              "      <td>56.475000</td>\n",
              "      <td>301.400000</td>\n",
              "    </tr>\n",
              "    <tr>\n",
              "      <th>reanalysis_relative_humidity_percent</th>\n",
              "      <td>414.0</td>\n",
              "      <td>82.499810</td>\n",
              "      <td>7.378243</td>\n",
              "      <td>64.920000</td>\n",
              "      <td>77.397143</td>\n",
              "      <td>80.330000</td>\n",
              "      <td>88.328929</td>\n",
              "      <td>97.982857</td>\n",
              "    </tr>\n",
              "    <tr>\n",
              "      <th>reanalysis_sat_precip_amt_mm</th>\n",
              "      <td>414.0</td>\n",
              "      <td>38.354324</td>\n",
              "      <td>35.171126</td>\n",
              "      <td>0.000000</td>\n",
              "      <td>8.175000</td>\n",
              "      <td>31.455000</td>\n",
              "      <td>57.772500</td>\n",
              "      <td>169.340000</td>\n",
              "    </tr>\n",
              "    <tr>\n",
              "      <th>reanalysis_specific_humidity_g_per_kg</th>\n",
              "      <td>414.0</td>\n",
              "      <td>16.927088</td>\n",
              "      <td>1.557868</td>\n",
              "      <td>12.537143</td>\n",
              "      <td>15.792857</td>\n",
              "      <td>17.337143</td>\n",
              "      <td>18.174643</td>\n",
              "      <td>19.598571</td>\n",
              "    </tr>\n",
              "    <tr>\n",
              "      <th>reanalysis_tdtr_k</th>\n",
              "      <td>414.0</td>\n",
              "      <td>5.124569</td>\n",
              "      <td>3.542870</td>\n",
              "      <td>1.485714</td>\n",
              "      <td>2.446429</td>\n",
              "      <td>2.914286</td>\n",
              "      <td>8.171429</td>\n",
              "      <td>14.485714</td>\n",
              "    </tr>\n",
              "    <tr>\n",
              "      <th>station_avg_temp_c</th>\n",
              "      <td>404.0</td>\n",
              "      <td>27.369587</td>\n",
              "      <td>1.232608</td>\n",
              "      <td>24.157143</td>\n",
              "      <td>26.514286</td>\n",
              "      <td>27.483333</td>\n",
              "      <td>28.319048</td>\n",
              "      <td>30.271429</td>\n",
              "    </tr>\n",
              "    <tr>\n",
              "      <th>station_diur_temp_rng_c</th>\n",
              "      <td>404.0</td>\n",
              "      <td>7.810991</td>\n",
              "      <td>2.449718</td>\n",
              "      <td>4.042857</td>\n",
              "      <td>5.928571</td>\n",
              "      <td>6.642857</td>\n",
              "      <td>9.812500</td>\n",
              "      <td>14.725000</td>\n",
              "    </tr>\n",
              "    <tr>\n",
              "      <th>station_max_temp_c</th>\n",
              "      <td>413.0</td>\n",
              "      <td>32.534625</td>\n",
              "      <td>1.920429</td>\n",
              "      <td>27.200000</td>\n",
              "      <td>31.100000</td>\n",
              "      <td>32.800000</td>\n",
              "      <td>33.900000</td>\n",
              "      <td>38.400000</td>\n",
              "    </tr>\n",
              "    <tr>\n",
              "      <th>station_min_temp_c</th>\n",
              "      <td>407.0</td>\n",
              "      <td>22.368550</td>\n",
              "      <td>1.731437</td>\n",
              "      <td>14.200000</td>\n",
              "      <td>21.200000</td>\n",
              "      <td>22.200000</td>\n",
              "      <td>23.300000</td>\n",
              "      <td>26.700000</td>\n",
              "    </tr>\n",
              "    <tr>\n",
              "      <th>station_precip_mm</th>\n",
              "      <td>411.0</td>\n",
              "      <td>34.278589</td>\n",
              "      <td>34.655966</td>\n",
              "      <td>0.000000</td>\n",
              "      <td>9.100000</td>\n",
              "      <td>23.600000</td>\n",
              "      <td>47.750000</td>\n",
              "      <td>212.000000</td>\n",
              "    </tr>\n",
              "  </tbody>\n",
              "</table>\n",
              "</div>"
            ],
            "text/plain": [
              "                                       count  ...          max\n",
              "year                                   416.0  ...  2013.000000\n",
              "weekofyear                             416.0  ...    53.000000\n",
              "ndvi_ne                                373.0  ...     0.500400\n",
              "ndvi_nw                                405.0  ...     0.649000\n",
              "ndvi_se                                415.0  ...     0.453043\n",
              "ndvi_sw                                415.0  ...     0.529043\n",
              "precipitation_amt_mm                   414.0  ...   169.340000\n",
              "reanalysis_air_temp_c                  414.0  ...    28.785714\n",
              "reanalysis_avg_temp_c                  414.0  ...    30.178571\n",
              "reanalysis_dew_point_temp_c            414.0  ...    24.644286\n",
              "reanalysis_max_air_temp_c              414.0  ...    40.950000\n",
              "reanalysis_min_air_temp_c              414.0  ...    26.550000\n",
              "reanalysis_precip_amt_kg_per_m2        414.0  ...   301.400000\n",
              "reanalysis_relative_humidity_percent   414.0  ...    97.982857\n",
              "reanalysis_sat_precip_amt_mm           414.0  ...   169.340000\n",
              "reanalysis_specific_humidity_g_per_kg  414.0  ...    19.598571\n",
              "reanalysis_tdtr_k                      414.0  ...    14.485714\n",
              "station_avg_temp_c                     404.0  ...    30.271429\n",
              "station_diur_temp_rng_c                404.0  ...    14.725000\n",
              "station_max_temp_c                     413.0  ...    38.400000\n",
              "station_min_temp_c                     407.0  ...    26.700000\n",
              "station_precip_mm                      411.0  ...   212.000000\n",
              "\n",
              "[22 rows x 8 columns]"
            ]
          },
          "metadata": {},
          "execution_count": 16
        }
      ]
    },
    {
      "cell_type": "code",
      "metadata": {
        "id": "Rn73_YAgAVfH"
      },
      "source": [
        "df_test. drop ( 'week_start_date' ,  axis = 1 ,  inplace = True )"
      ],
      "execution_count": 17,
      "outputs": []
    },
    {
      "cell_type": "code",
      "metadata": {
        "colab": {
          "base_uri": "https://localhost:8080/"
        },
        "id": "RGP6VcfgAAwt",
        "outputId": "4c196bed-d208-48a1-a0ff-092a386d56fa"
      },
      "source": [
        "#Vista de los valores únicos en los atributos de tipo string\n",
        "\n",
        "print(f\"Valores presentes en el atributo: {df_test['city'].unique()} \\n\")\n",
        "\n",
        "#Vista de la cantidad de ocurrencias de cada valor\n",
        "\n",
        "print(f\"Conteo de ocurrencias por valor:\\n{df_test['city'].value_counts()}\")"
      ],
      "execution_count": 18,
      "outputs": [
        {
          "output_type": "stream",
          "name": "stdout",
          "text": [
            "Valores presentes en el atributo: ['sj' 'iq'] \n",
            "\n",
            "Conteo de ocurrencias por valor:\n",
            "sj    260\n",
            "iq    156\n",
            "Name: city, dtype: int64\n"
          ]
        }
      ]
    },
    {
      "cell_type": "markdown",
      "metadata": {
        "id": "SS_t3B2zlJ-g"
      },
      "source": [
        "##Outliers"
      ]
    },
    {
      "cell_type": "markdown",
      "metadata": {
        "id": "Xyl8YQ6gmy1e"
      },
      "source": [
        "Se analizó en la actividad anterior los outliers que habia y se creó algunas funciones que se volveran a utlizar aqui "
      ]
    },
    {
      "cell_type": "code",
      "metadata": {
        "colab": {
          "base_uri": "https://localhost:8080/"
        },
        "id": "Hmdpk8_kmW0T",
        "outputId": "c945175b-762e-4d62-d22c-e0497e2c0281"
      },
      "source": [
        "#quitando los nulos\n",
        "df.fillna(method='ffill', inplace=True)\n",
        "pd.isnull(df).any()"
      ],
      "execution_count": 19,
      "outputs": [
        {
          "output_type": "execute_result",
          "data": {
            "text/plain": [
              "city                                     False\n",
              "year                                     False\n",
              "weekofyear                               False\n",
              "ndvi_ne                                  False\n",
              "ndvi_nw                                  False\n",
              "ndvi_se                                  False\n",
              "ndvi_sw                                  False\n",
              "precipitation_amt_mm                     False\n",
              "reanalysis_air_temp_c                    False\n",
              "reanalysis_avg_temp_c                    False\n",
              "reanalysis_dew_point_temp_c              False\n",
              "reanalysis_max_air_temp_c                False\n",
              "reanalysis_min_air_temp_c                False\n",
              "reanalysis_precip_amt_kg_per_m2          False\n",
              "reanalysis_relative_humidity_percent     False\n",
              "reanalysis_sat_precip_amt_mm             False\n",
              "reanalysis_specific_humidity_g_per_kg    False\n",
              "reanalysis_tdtr_k                        False\n",
              "station_avg_temp_c                       False\n",
              "station_diur_temp_rng_c                  False\n",
              "station_max_temp_c                       False\n",
              "station_min_temp_c                       False\n",
              "station_precip_mm                        False\n",
              "total_cases                              False\n",
              "dtype: bool"
            ]
          },
          "metadata": {},
          "execution_count": 19
        }
      ]
    },
    {
      "cell_type": "code",
      "metadata": {
        "colab": {
          "base_uri": "https://localhost:8080/"
        },
        "id": "OR0IP_ncmY2y",
        "outputId": "e65aa9f3-208c-4de8-81c3-53a65aa889aa"
      },
      "source": [
        "#quitando los nulos para el test \n",
        "df_test.fillna(method='ffill', inplace=True)\n",
        "pd.isnull(df_test).any()"
      ],
      "execution_count": 20,
      "outputs": [
        {
          "output_type": "execute_result",
          "data": {
            "text/plain": [
              "city                                     False\n",
              "year                                     False\n",
              "weekofyear                               False\n",
              "ndvi_ne                                  False\n",
              "ndvi_nw                                  False\n",
              "ndvi_se                                  False\n",
              "ndvi_sw                                  False\n",
              "precipitation_amt_mm                     False\n",
              "reanalysis_air_temp_c                    False\n",
              "reanalysis_avg_temp_c                    False\n",
              "reanalysis_dew_point_temp_c              False\n",
              "reanalysis_max_air_temp_c                False\n",
              "reanalysis_min_air_temp_c                False\n",
              "reanalysis_precip_amt_kg_per_m2          False\n",
              "reanalysis_relative_humidity_percent     False\n",
              "reanalysis_sat_precip_amt_mm             False\n",
              "reanalysis_specific_humidity_g_per_kg    False\n",
              "reanalysis_tdtr_k                        False\n",
              "station_avg_temp_c                       False\n",
              "station_diur_temp_rng_c                  False\n",
              "station_max_temp_c                       False\n",
              "station_min_temp_c                       False\n",
              "station_precip_mm                        False\n",
              "dtype: bool"
            ]
          },
          "metadata": {},
          "execution_count": 20
        }
      ]
    },
    {
      "cell_type": "markdown",
      "metadata": {
        "id": "SiB95siH1K2X"
      },
      "source": [
        "Reutilizamos las funciones para tratar outliers de la actividad anterior "
      ]
    },
    {
      "cell_type": "code",
      "metadata": {
        "id": "tkryXTGymmMD"
      },
      "source": [
        "#grafica los outliers de las variables\n",
        "def grafico_outliers(df_in):\n",
        "  columns=df_in.columns\n",
        "  plt.figure(figsize=(20,80))\n",
        "  for i in range(0,columns.shape[0]):\n",
        "    plt.subplot(20, 2, i+1)\n",
        "    sns.boxplot(df_in[columns[i]])\n",
        "  plt.show()\n",
        "\n",
        "lowqe_bound=0\n",
        "upper_bound=0\n",
        "\n",
        "#cuartiles , minimos y maximos\n",
        "def MinMax(df_in,column):\n",
        "  Q1=df_in[column].quantile(0.25)\n",
        "  Q3=df_in[column].quantile(0.75)\n",
        "  IQR=Q3-Q1\n",
        "  lowqe_bound=Q1 - 1.5 * IQR\n",
        "  upper_bound=Q3 + 1.5 * IQR\n",
        "\n",
        "  return lowqe_bound,upper_bound\n",
        "\n",
        "#funcion para contar outliers\n",
        "def num_outliers_column(df_in, column):\n",
        "    lowqe_bound,upper_bound=MinMax(df_in,column)\n",
        "    df_outliers = df_in.loc[(df_in[column] <= lowqe_bound) | (df_in[column] >= upper_bound)]\n",
        "    return df_outliers.shape[0]\n",
        "\n",
        "\n",
        "#numero de outliers totales por variables\n",
        "def count_outliers(df_in):\n",
        "  columns=df_in.columns\n",
        "  total=0\n",
        "  for i in range(0,columns.shape[0]):\n",
        "  \n",
        "    num=num_outliers_column(df_in,columns[i]) \n",
        "    total+=num\n",
        "    print(f\"Existen {num}  para {columns[i]}\")\n",
        "  print(f\"Total: {total}\")\n",
        "\n",
        "#funcion para reemplazar outliers por nan \n",
        "def replace_nan_outliers(df_in,column):\n",
        "  min,max=MinMax(df_in,column)\n",
        "  for x in [column]:\n",
        "      df_in.loc[df_in[x] < min,x] = np.nan\n",
        "      df_in.loc[df_in[x] > max,x] = np.nan\n",
        "  df_nan= df_in\n",
        "  \n",
        "  return df_nan\n",
        "\n",
        "#Funcion para eliminar los outliers del dataset  \n",
        "def remove_outliers(df_in,column):\n",
        "    df_r=replace_nan_outliers(df_in,column)\n",
        "    df_r.dropna(axis = 0)\n",
        "    return df_r\n",
        "\n",
        "#funcion para reemplazar los outliers por el valor anterior\n",
        "def replace_outlier(df_in,column):\n",
        "    df_r=replace_nan_outliers(df_in,column)\n",
        "    df_r.fillna(method='ffill', inplace=True)\n",
        "    return df_r\n",
        "\n",
        "#fucnion para reemplazar los outliers por la media\n",
        "def replace_outlier_med(df_in,column):\n",
        "    df_r=replace_nan_outliers(df_in,column)\n",
        "    df_r[column] = df_r[column].fillna((df_in[column].mean()))\n",
        "    return df_r\n"
      ],
      "execution_count": 21,
      "outputs": []
    },
    {
      "cell_type": "markdown",
      "metadata": {
        "id": "tMSVo78z6VoV"
      },
      "source": [
        "Analizamos con ayuda de las funciones anterior, los dos dataset:"
      ]
    },
    {
      "cell_type": "code",
      "metadata": {
        "id": "JCr6DSkO-t3n"
      },
      "source": [
        "df_o=df.iloc[:,1:]\n",
        "df_test_o=df_test.iloc[:,1:]"
      ],
      "execution_count": 22,
      "outputs": []
    },
    {
      "cell_type": "code",
      "metadata": {
        "colab": {
          "base_uri": "https://localhost:8080/"
        },
        "id": "zX-4KN646sdT",
        "outputId": "b451b275-be26-42e2-c6eb-f30e5caebb10"
      },
      "source": [
        "#contador de outliers\n",
        "print(f\"------Outliers para fichero train------\")\n",
        "count_outliers(df_o)\n",
        "print(f\"------Outliers para fichero test-------\")\n",
        "count_outliers(df_test_o)"
      ],
      "execution_count": 23,
      "outputs": [
        {
          "output_type": "stream",
          "name": "stdout",
          "text": [
            "------Outliers para fichero train------\n",
            "Existen 0  para year\n",
            "Existen 0  para weekofyear\n",
            "Existen 9  para ndvi_ne\n",
            "Existen 5  para ndvi_nw\n",
            "Existen 23  para ndvi_se\n",
            "Existen 35  para ndvi_sw\n",
            "Existen 24  para precipitation_amt_mm\n",
            "Existen 0  para reanalysis_air_temp_c\n",
            "Existen 2  para reanalysis_avg_temp_c\n",
            "Existen 7  para reanalysis_dew_point_temp_c\n",
            "Existen 10  para reanalysis_max_air_temp_c\n",
            "Existen 6  para reanalysis_min_air_temp_c\n",
            "Existen 87  para reanalysis_precip_amt_kg_per_m2\n",
            "Existen 2  para reanalysis_relative_humidity_percent\n",
            "Existen 24  para reanalysis_sat_precip_amt_mm\n",
            "Existen 1  para reanalysis_specific_humidity_g_per_kg\n",
            "Existen 1  para reanalysis_tdtr_k\n",
            "Existen 6  para station_avg_temp_c\n",
            "Existen 3  para station_diur_temp_rng_c\n",
            "Existen 4  para station_max_temp_c\n",
            "Existen 17  para station_min_temp_c\n",
            "Existen 82  para station_precip_mm\n",
            "Existen 124  para total_cases\n",
            "Total: 472\n",
            "------Outliers para fichero test-------\n",
            "Existen 0  para year\n",
            "Existen 0  para weekofyear\n",
            "Existen 1  para ndvi_ne\n",
            "Existen 1  para ndvi_nw\n",
            "Existen 4  para ndvi_se\n",
            "Existen 5  para ndvi_sw\n",
            "Existen 8  para precipitation_amt_mm\n",
            "Existen 0  para reanalysis_air_temp_c\n",
            "Existen 0  para reanalysis_avg_temp_c\n",
            "Existen 1  para reanalysis_dew_point_temp_c\n",
            "Existen 1  para reanalysis_max_air_temp_c\n",
            "Existen 1  para reanalysis_min_air_temp_c\n",
            "Existen 26  para reanalysis_precip_amt_kg_per_m2\n",
            "Existen 0  para reanalysis_relative_humidity_percent\n",
            "Existen 8  para reanalysis_sat_precip_amt_mm\n",
            "Existen 0  para reanalysis_specific_humidity_g_per_kg\n",
            "Existen 0  para reanalysis_tdtr_k\n",
            "Existen 0  para station_avg_temp_c\n",
            "Existen 0  para station_diur_temp_rng_c\n",
            "Existen 1  para station_max_temp_c\n",
            "Existen 7  para station_min_temp_c\n",
            "Existen 17  para station_precip_mm\n",
            "Total: 81\n"
          ]
        }
      ]
    },
    {
      "cell_type": "markdown",
      "metadata": {
        "id": "eIa0OQsbIuWN"
      },
      "source": [
        "vemos que en los dos dataframe existen outliers que tenemos que tratar con funciones que se han definido ."
      ]
    },
    {
      "cell_type": "code",
      "metadata": {
        "colab": {
          "base_uri": "https://localhost:8080/"
        },
        "id": "Ejfym_lwZAkF",
        "outputId": "e9c34bb4-5ad1-4acb-adda-d13f521649d6"
      },
      "source": [
        "#quitando outliers para train\n",
        "df1=df_o\n",
        "df1=replace_outlier_med(df1,'ndvi_ne')\n",
        "df1=replace_outlier_med(df1,'ndvi_nw')\n",
        "df1=replace_outlier_med(df1,'ndvi_se')\n",
        "df1=replace_outlier_med(df1,'ndvi_sw')\n",
        "df1=replace_outlier_med(df1,'precipitation_amt_mm')\n",
        "df1=replace_outlier_med(df1,'reanalysis_avg_temp_c')\n",
        "df1=replace_outlier_med(df1,'reanalysis_dew_point_temp_c')\n",
        "df1=replace_outlier_med(df1,'reanalysis_max_air_temp_c')\n",
        "df1=replace_outlier_med(df1,'reanalysis_min_air_temp_c')\n",
        "df1=replace_outlier_med(df1,'reanalysis_precip_amt_kg_per_m2')\n",
        "df1=replace_outlier_med(df1,'reanalysis_relative_humidity_percent')\n",
        "df1=replace_outlier_med(df1,'reanalysis_sat_precip_amt_mm')\n",
        "df1=replace_outlier_med(df1,'reanalysis_specific_humidity_g_per_kg')\n",
        "df1=replace_outlier_med(df1,'reanalysis_tdtr_k')\n",
        "df1=replace_outlier_med(df1,'station_avg_temp_c')\n",
        "df1=replace_outlier_med(df1,'station_diur_temp_rng_c')\n",
        "df1=replace_outlier_med(df1,'station_max_temp_c')\n",
        "df1=replace_outlier_med(df1,'station_min_temp_c')\n",
        "df1=replace_outlier_med(df1,'station_precip_mm')\n",
        "df1=replace_outlier_med(df1,'total_cases')\n",
        "count_outliers(df1)"
      ],
      "execution_count": 43,
      "outputs": [
        {
          "output_type": "stream",
          "name": "stdout",
          "text": [
            "Existen 0  para year\n",
            "Existen 0  para weekofyear\n",
            "Existen 0  para ndvi_ne\n",
            "Existen 0  para ndvi_nw\n",
            "Existen 0  para ndvi_se\n",
            "Existen 0  para ndvi_sw\n",
            "Existen 0  para precipitation_amt_mm\n",
            "Existen 0  para reanalysis_air_temp_c\n",
            "Existen 0  para reanalysis_avg_temp_c\n",
            "Existen 0  para reanalysis_dew_point_temp_c\n",
            "Existen 0  para reanalysis_max_air_temp_c\n",
            "Existen 0  para reanalysis_min_air_temp_c\n",
            "Existen 0  para reanalysis_precip_amt_kg_per_m2\n",
            "Existen 0  para reanalysis_relative_humidity_percent\n",
            "Existen 0  para reanalysis_sat_precip_amt_mm\n",
            "Existen 0  para reanalysis_specific_humidity_g_per_kg\n",
            "Existen 0  para reanalysis_tdtr_k\n",
            "Existen 0  para station_avg_temp_c\n",
            "Existen 0  para station_diur_temp_rng_c\n",
            "Existen 0  para station_max_temp_c\n",
            "Existen 0  para station_min_temp_c\n",
            "Existen 0  para station_precip_mm\n",
            "Existen 0  para total_cases\n",
            "Total: 0\n"
          ]
        }
      ]
    },
    {
      "cell_type": "markdown",
      "metadata": {
        "id": "nMg78em7hPqi"
      },
      "source": [
        "una vez quitados los outliers , se vuelve a definir el dataset train"
      ]
    },
    {
      "cell_type": "code",
      "metadata": {
        "colab": {
          "base_uri": "https://localhost:8080/",
          "height": 223
        },
        "id": "cN9pvIz3akxO",
        "outputId": "fc2934f8-340b-4c7b-cd38-7813e49ab175"
      },
      "source": [
        "df_train =df1.assign(city=df.city)\n",
        "df_train.head(5)"
      ],
      "execution_count": 44,
      "outputs": [
        {
          "output_type": "execute_result",
          "data": {
            "text/html": [
              "<div>\n",
              "<style scoped>\n",
              "    .dataframe tbody tr th:only-of-type {\n",
              "        vertical-align: middle;\n",
              "    }\n",
              "\n",
              "    .dataframe tbody tr th {\n",
              "        vertical-align: top;\n",
              "    }\n",
              "\n",
              "    .dataframe thead th {\n",
              "        text-align: right;\n",
              "    }\n",
              "</style>\n",
              "<table border=\"1\" class=\"dataframe\">\n",
              "  <thead>\n",
              "    <tr style=\"text-align: right;\">\n",
              "      <th></th>\n",
              "      <th>year</th>\n",
              "      <th>weekofyear</th>\n",
              "      <th>ndvi_ne</th>\n",
              "      <th>ndvi_nw</th>\n",
              "      <th>ndvi_se</th>\n",
              "      <th>ndvi_sw</th>\n",
              "      <th>precipitation_amt_mm</th>\n",
              "      <th>reanalysis_air_temp_c</th>\n",
              "      <th>reanalysis_avg_temp_c</th>\n",
              "      <th>reanalysis_dew_point_temp_c</th>\n",
              "      <th>reanalysis_max_air_temp_c</th>\n",
              "      <th>reanalysis_min_air_temp_c</th>\n",
              "      <th>reanalysis_precip_amt_kg_per_m2</th>\n",
              "      <th>reanalysis_relative_humidity_percent</th>\n",
              "      <th>reanalysis_sat_precip_amt_mm</th>\n",
              "      <th>reanalysis_specific_humidity_g_per_kg</th>\n",
              "      <th>reanalysis_tdtr_k</th>\n",
              "      <th>station_avg_temp_c</th>\n",
              "      <th>station_diur_temp_rng_c</th>\n",
              "      <th>station_max_temp_c</th>\n",
              "      <th>station_min_temp_c</th>\n",
              "      <th>station_precip_mm</th>\n",
              "      <th>total_cases</th>\n",
              "      <th>city</th>\n",
              "    </tr>\n",
              "  </thead>\n",
              "  <tbody>\n",
              "    <tr>\n",
              "      <th>0</th>\n",
              "      <td>1990</td>\n",
              "      <td>18</td>\n",
              "      <td>0.122600</td>\n",
              "      <td>0.103725</td>\n",
              "      <td>0.198483</td>\n",
              "      <td>0.177617</td>\n",
              "      <td>12.42</td>\n",
              "      <td>24.422857</td>\n",
              "      <td>24.592857</td>\n",
              "      <td>19.264286</td>\n",
              "      <td>26.65</td>\n",
              "      <td>22.75</td>\n",
              "      <td>32.00</td>\n",
              "      <td>73.365714</td>\n",
              "      <td>12.42</td>\n",
              "      <td>14.012857</td>\n",
              "      <td>2.628571</td>\n",
              "      <td>25.442857</td>\n",
              "      <td>6.900000</td>\n",
              "      <td>29.4</td>\n",
              "      <td>20.0</td>\n",
              "      <td>16.0</td>\n",
              "      <td>4.0</td>\n",
              "      <td>sj</td>\n",
              "    </tr>\n",
              "    <tr>\n",
              "      <th>1</th>\n",
              "      <td>1990</td>\n",
              "      <td>19</td>\n",
              "      <td>0.169900</td>\n",
              "      <td>0.142175</td>\n",
              "      <td>0.162357</td>\n",
              "      <td>0.155486</td>\n",
              "      <td>22.82</td>\n",
              "      <td>25.061429</td>\n",
              "      <td>25.292857</td>\n",
              "      <td>20.801429</td>\n",
              "      <td>27.75</td>\n",
              "      <td>23.25</td>\n",
              "      <td>17.94</td>\n",
              "      <td>77.368571</td>\n",
              "      <td>22.82</td>\n",
              "      <td>15.372857</td>\n",
              "      <td>2.371429</td>\n",
              "      <td>26.714286</td>\n",
              "      <td>6.371429</td>\n",
              "      <td>31.7</td>\n",
              "      <td>22.2</td>\n",
              "      <td>8.6</td>\n",
              "      <td>5.0</td>\n",
              "      <td>sj</td>\n",
              "    </tr>\n",
              "    <tr>\n",
              "      <th>2</th>\n",
              "      <td>1990</td>\n",
              "      <td>20</td>\n",
              "      <td>0.032250</td>\n",
              "      <td>0.172967</td>\n",
              "      <td>0.157200</td>\n",
              "      <td>0.170843</td>\n",
              "      <td>34.54</td>\n",
              "      <td>25.631429</td>\n",
              "      <td>25.728571</td>\n",
              "      <td>22.284286</td>\n",
              "      <td>27.35</td>\n",
              "      <td>24.15</td>\n",
              "      <td>26.10</td>\n",
              "      <td>82.052857</td>\n",
              "      <td>34.54</td>\n",
              "      <td>16.848571</td>\n",
              "      <td>2.300000</td>\n",
              "      <td>26.714286</td>\n",
              "      <td>6.485714</td>\n",
              "      <td>32.2</td>\n",
              "      <td>22.8</td>\n",
              "      <td>41.4</td>\n",
              "      <td>4.0</td>\n",
              "      <td>sj</td>\n",
              "    </tr>\n",
              "    <tr>\n",
              "      <th>3</th>\n",
              "      <td>1990</td>\n",
              "      <td>21</td>\n",
              "      <td>0.128633</td>\n",
              "      <td>0.245067</td>\n",
              "      <td>0.227557</td>\n",
              "      <td>0.235886</td>\n",
              "      <td>15.36</td>\n",
              "      <td>25.837143</td>\n",
              "      <td>26.078571</td>\n",
              "      <td>22.160000</td>\n",
              "      <td>28.25</td>\n",
              "      <td>23.85</td>\n",
              "      <td>13.90</td>\n",
              "      <td>80.337143</td>\n",
              "      <td>15.36</td>\n",
              "      <td>16.672857</td>\n",
              "      <td>2.428571</td>\n",
              "      <td>27.471429</td>\n",
              "      <td>6.771429</td>\n",
              "      <td>33.3</td>\n",
              "      <td>23.3</td>\n",
              "      <td>4.0</td>\n",
              "      <td>3.0</td>\n",
              "      <td>sj</td>\n",
              "    </tr>\n",
              "    <tr>\n",
              "      <th>4</th>\n",
              "      <td>1990</td>\n",
              "      <td>22</td>\n",
              "      <td>0.196200</td>\n",
              "      <td>0.262200</td>\n",
              "      <td>0.251200</td>\n",
              "      <td>0.247340</td>\n",
              "      <td>7.52</td>\n",
              "      <td>26.368571</td>\n",
              "      <td>26.514286</td>\n",
              "      <td>22.671429</td>\n",
              "      <td>28.75</td>\n",
              "      <td>24.35</td>\n",
              "      <td>12.20</td>\n",
              "      <td>80.460000</td>\n",
              "      <td>7.52</td>\n",
              "      <td>17.210000</td>\n",
              "      <td>3.014286</td>\n",
              "      <td>28.942857</td>\n",
              "      <td>9.371429</td>\n",
              "      <td>35.0</td>\n",
              "      <td>23.9</td>\n",
              "      <td>5.8</td>\n",
              "      <td>6.0</td>\n",
              "      <td>sj</td>\n",
              "    </tr>\n",
              "  </tbody>\n",
              "</table>\n",
              "</div>"
            ],
            "text/plain": [
              "   year  weekofyear   ndvi_ne  ...  station_precip_mm  total_cases  city\n",
              "0  1990          18  0.122600  ...               16.0          4.0    sj\n",
              "1  1990          19  0.169900  ...                8.6          5.0    sj\n",
              "2  1990          20  0.032250  ...               41.4          4.0    sj\n",
              "3  1990          21  0.128633  ...                4.0          3.0    sj\n",
              "4  1990          22  0.196200  ...                5.8          6.0    sj\n",
              "\n",
              "[5 rows x 24 columns]"
            ]
          },
          "metadata": {},
          "execution_count": 44
        }
      ]
    },
    {
      "cell_type": "code",
      "metadata": {
        "colab": {
          "base_uri": "https://localhost:8080/"
        },
        "id": "bfVL9uhbaM8Y",
        "outputId": "cf24acc6-dd86-4635-b7a8-83a82e0eb6b2"
      },
      "source": [
        "#quitando outliers para test\n",
        "df1=df_test_o\n",
        "df1=replace_outlier_med(df1,'ndvi_ne')\n",
        "df1=replace_outlier_med(df1,'ndvi_nw')\n",
        "df1=replace_outlier_med(df1,'ndvi_se')\n",
        "df1=replace_outlier_med(df1,'ndvi_sw')\n",
        "df1=replace_outlier_med(df1,'precipitation_amt_mm')\n",
        "df1=replace_outlier_med(df1,'reanalysis_avg_temp_c')\n",
        "df1=replace_outlier_med(df1,'reanalysis_dew_point_temp_c')\n",
        "df1=replace_outlier_med(df1,'reanalysis_max_air_temp_c')\n",
        "df1=replace_outlier_med(df1,'reanalysis_min_air_temp_c')\n",
        "df1=replace_outlier_med(df1,'reanalysis_precip_amt_kg_per_m2')\n",
        "df1=replace_outlier_med(df1,'reanalysis_relative_humidity_percent')\n",
        "df1=replace_outlier_med(df1,'reanalysis_sat_precip_amt_mm')\n",
        "df1=replace_outlier_med(df1,'reanalysis_specific_humidity_g_per_kg')\n",
        "df1=replace_outlier_med(df1,'reanalysis_tdtr_k')\n",
        "df1=replace_outlier_med(df1,'station_avg_temp_c')\n",
        "df1=replace_outlier_med(df1,'station_diur_temp_rng_c')\n",
        "df1=replace_outlier_med(df1,'station_max_temp_c')\n",
        "df1=replace_outlier_med(df1,'station_min_temp_c')\n",
        "df1=replace_outlier_med(df1,'station_precip_mm')\n",
        "\n",
        "count_outliers(df1)"
      ],
      "execution_count": 49,
      "outputs": [
        {
          "output_type": "stream",
          "name": "stdout",
          "text": [
            "Existen 0  para year\n",
            "Existen 0  para weekofyear\n",
            "Existen 0  para ndvi_ne\n",
            "Existen 0  para ndvi_nw\n",
            "Existen 0  para ndvi_se\n",
            "Existen 0  para ndvi_sw\n",
            "Existen 0  para precipitation_amt_mm\n",
            "Existen 0  para reanalysis_air_temp_c\n",
            "Existen 0  para reanalysis_avg_temp_c\n",
            "Existen 0  para reanalysis_dew_point_temp_c\n",
            "Existen 0  para reanalysis_max_air_temp_c\n",
            "Existen 0  para reanalysis_min_air_temp_c\n",
            "Existen 0  para reanalysis_precip_amt_kg_per_m2\n",
            "Existen 0  para reanalysis_relative_humidity_percent\n",
            "Existen 0  para reanalysis_sat_precip_amt_mm\n",
            "Existen 0  para reanalysis_specific_humidity_g_per_kg\n",
            "Existen 0  para reanalysis_tdtr_k\n",
            "Existen 0  para station_avg_temp_c\n",
            "Existen 0  para station_diur_temp_rng_c\n",
            "Existen 0  para station_max_temp_c\n",
            "Existen 0  para station_min_temp_c\n",
            "Existen 0  para station_precip_mm\n",
            "Total: 0\n"
          ]
        }
      ]
    },
    {
      "cell_type": "code",
      "metadata": {
        "colab": {
          "base_uri": "https://localhost:8080/",
          "height": 223
        },
        "id": "W4C3NrSQhyyx",
        "outputId": "01033f00-c020-488f-c316-da48767e1763"
      },
      "source": [
        "df_test =df1.assign(city=df_test.city)\n",
        "df_test.head(5)"
      ],
      "execution_count": 50,
      "outputs": [
        {
          "output_type": "execute_result",
          "data": {
            "text/html": [
              "<div>\n",
              "<style scoped>\n",
              "    .dataframe tbody tr th:only-of-type {\n",
              "        vertical-align: middle;\n",
              "    }\n",
              "\n",
              "    .dataframe tbody tr th {\n",
              "        vertical-align: top;\n",
              "    }\n",
              "\n",
              "    .dataframe thead th {\n",
              "        text-align: right;\n",
              "    }\n",
              "</style>\n",
              "<table border=\"1\" class=\"dataframe\">\n",
              "  <thead>\n",
              "    <tr style=\"text-align: right;\">\n",
              "      <th></th>\n",
              "      <th>year</th>\n",
              "      <th>weekofyear</th>\n",
              "      <th>ndvi_ne</th>\n",
              "      <th>ndvi_nw</th>\n",
              "      <th>ndvi_se</th>\n",
              "      <th>ndvi_sw</th>\n",
              "      <th>precipitation_amt_mm</th>\n",
              "      <th>reanalysis_air_temp_c</th>\n",
              "      <th>reanalysis_avg_temp_c</th>\n",
              "      <th>reanalysis_dew_point_temp_c</th>\n",
              "      <th>reanalysis_max_air_temp_c</th>\n",
              "      <th>reanalysis_min_air_temp_c</th>\n",
              "      <th>reanalysis_precip_amt_kg_per_m2</th>\n",
              "      <th>reanalysis_relative_humidity_percent</th>\n",
              "      <th>reanalysis_sat_precip_amt_mm</th>\n",
              "      <th>reanalysis_specific_humidity_g_per_kg</th>\n",
              "      <th>reanalysis_tdtr_k</th>\n",
              "      <th>station_avg_temp_c</th>\n",
              "      <th>station_diur_temp_rng_c</th>\n",
              "      <th>station_max_temp_c</th>\n",
              "      <th>station_min_temp_c</th>\n",
              "      <th>station_precip_mm</th>\n",
              "      <th>city</th>\n",
              "    </tr>\n",
              "  </thead>\n",
              "  <tbody>\n",
              "    <tr>\n",
              "      <th>0</th>\n",
              "      <td>2008</td>\n",
              "      <td>18</td>\n",
              "      <td>-0.0189</td>\n",
              "      <td>-0.018900</td>\n",
              "      <td>0.102729</td>\n",
              "      <td>0.091200</td>\n",
              "      <td>78.60</td>\n",
              "      <td>25.342857</td>\n",
              "      <td>25.400000</td>\n",
              "      <td>21.377143</td>\n",
              "      <td>27.95</td>\n",
              "      <td>23.25</td>\n",
              "      <td>25.37</td>\n",
              "      <td>78.781429</td>\n",
              "      <td>78.60</td>\n",
              "      <td>15.918571</td>\n",
              "      <td>3.128571</td>\n",
              "      <td>26.528571</td>\n",
              "      <td>7.057143</td>\n",
              "      <td>33.3</td>\n",
              "      <td>21.7</td>\n",
              "      <td>24.551635</td>\n",
              "      <td>sj</td>\n",
              "    </tr>\n",
              "    <tr>\n",
              "      <th>1</th>\n",
              "      <td>2008</td>\n",
              "      <td>19</td>\n",
              "      <td>-0.0180</td>\n",
              "      <td>-0.012400</td>\n",
              "      <td>0.082043</td>\n",
              "      <td>0.072314</td>\n",
              "      <td>12.56</td>\n",
              "      <td>25.325714</td>\n",
              "      <td>25.407143</td>\n",
              "      <td>21.245714</td>\n",
              "      <td>27.65</td>\n",
              "      <td>23.55</td>\n",
              "      <td>21.83</td>\n",
              "      <td>78.230000</td>\n",
              "      <td>12.56</td>\n",
              "      <td>15.791429</td>\n",
              "      <td>2.571429</td>\n",
              "      <td>26.071429</td>\n",
              "      <td>5.557143</td>\n",
              "      <td>30.0</td>\n",
              "      <td>22.2</td>\n",
              "      <td>34.300000</td>\n",
              "      <td>sj</td>\n",
              "    </tr>\n",
              "    <tr>\n",
              "      <th>2</th>\n",
              "      <td>2008</td>\n",
              "      <td>20</td>\n",
              "      <td>-0.0015</td>\n",
              "      <td>-0.012400</td>\n",
              "      <td>0.151083</td>\n",
              "      <td>0.091529</td>\n",
              "      <td>3.66</td>\n",
              "      <td>26.305714</td>\n",
              "      <td>26.207143</td>\n",
              "      <td>22.158571</td>\n",
              "      <td>29.05</td>\n",
              "      <td>23.25</td>\n",
              "      <td>4.12</td>\n",
              "      <td>78.270000</td>\n",
              "      <td>3.66</td>\n",
              "      <td>16.674286</td>\n",
              "      <td>4.428571</td>\n",
              "      <td>27.928571</td>\n",
              "      <td>7.785714</td>\n",
              "      <td>32.8</td>\n",
              "      <td>22.8</td>\n",
              "      <td>3.000000</td>\n",
              "      <td>sj</td>\n",
              "    </tr>\n",
              "    <tr>\n",
              "      <th>3</th>\n",
              "      <td>2008</td>\n",
              "      <td>21</td>\n",
              "      <td>-0.0015</td>\n",
              "      <td>-0.019867</td>\n",
              "      <td>0.124329</td>\n",
              "      <td>0.125686</td>\n",
              "      <td>0.00</td>\n",
              "      <td>26.540000</td>\n",
              "      <td>26.578571</td>\n",
              "      <td>21.252857</td>\n",
              "      <td>29.85</td>\n",
              "      <td>23.75</td>\n",
              "      <td>2.20</td>\n",
              "      <td>73.015714</td>\n",
              "      <td>0.00</td>\n",
              "      <td>15.775714</td>\n",
              "      <td>4.342857</td>\n",
              "      <td>28.057143</td>\n",
              "      <td>6.271429</td>\n",
              "      <td>33.3</td>\n",
              "      <td>24.4</td>\n",
              "      <td>0.300000</td>\n",
              "      <td>sj</td>\n",
              "    </tr>\n",
              "    <tr>\n",
              "      <th>4</th>\n",
              "      <td>2008</td>\n",
              "      <td>22</td>\n",
              "      <td>0.0568</td>\n",
              "      <td>0.039833</td>\n",
              "      <td>0.062267</td>\n",
              "      <td>0.075914</td>\n",
              "      <td>0.76</td>\n",
              "      <td>26.630000</td>\n",
              "      <td>26.521429</td>\n",
              "      <td>21.610000</td>\n",
              "      <td>29.15</td>\n",
              "      <td>24.15</td>\n",
              "      <td>4.36</td>\n",
              "      <td>74.084286</td>\n",
              "      <td>0.76</td>\n",
              "      <td>16.137143</td>\n",
              "      <td>3.542857</td>\n",
              "      <td>27.614286</td>\n",
              "      <td>7.085714</td>\n",
              "      <td>33.3</td>\n",
              "      <td>23.3</td>\n",
              "      <td>25.827325</td>\n",
              "      <td>sj</td>\n",
              "    </tr>\n",
              "  </tbody>\n",
              "</table>\n",
              "</div>"
            ],
            "text/plain": [
              "   year  weekofyear  ndvi_ne  ...  station_min_temp_c  station_precip_mm  city\n",
              "0  2008          18  -0.0189  ...                21.7          24.551635    sj\n",
              "1  2008          19  -0.0180  ...                22.2          34.300000    sj\n",
              "2  2008          20  -0.0015  ...                22.8           3.000000    sj\n",
              "3  2008          21  -0.0015  ...                24.4           0.300000    sj\n",
              "4  2008          22   0.0568  ...                23.3          25.827325    sj\n",
              "\n",
              "[5 rows x 23 columns]"
            ]
          },
          "metadata": {},
          "execution_count": 50
        }
      ]
    },
    {
      "cell_type": "markdown",
      "metadata": {
        "id": "RIu-d26vlNbL"
      },
      "source": [
        "##Separando por ciudades"
      ]
    },
    {
      "cell_type": "markdown",
      "metadata": {
        "id": "mNy6gkc3d5yi"
      },
      "source": [
        "Siguiendo las recomendaciones Drive Data :\"*Dado que planteamos la hipótesis de que la propagación del dengue puede seguir patrones diferentes entre los dos, dividiremos el conjunto de datos, entrenaremos modelos separados para cada ciudad y luego uniremos nuestras predicciones antes de hacer nuestra presentación final.*\", procedemos  a separar los datos por ciudades"
      ]
    },
    {
      "cell_type": "code",
      "metadata": {
        "colab": {
          "base_uri": "https://localhost:8080/"
        },
        "id": "WXPC1DYmnGEd",
        "outputId": "6f6aa425-93ed-4579-bdfd-2e5bb91255db"
      },
      "source": [
        "#Vista de los valores únicos en los atributos de tipo string\n",
        "\n",
        "print(f\"Valores presentes en el atributo: {df_train['city'].unique()} \\n\")\n",
        "\n",
        "#Vista de la cantidad de ocurrencias de cada valor\n",
        "\n",
        "print(f\"Conteo de ocurrencias por valor:\\n{df_train['city'].value_counts()}\")"
      ],
      "execution_count": 51,
      "outputs": [
        {
          "output_type": "stream",
          "name": "stdout",
          "text": [
            "Valores presentes en el atributo: ['sj' 'iq'] \n",
            "\n",
            "Conteo de ocurrencias por valor:\n",
            "sj    936\n",
            "iq    520\n",
            "Name: city, dtype: int64\n"
          ]
        }
      ]
    },
    {
      "cell_type": "code",
      "metadata": {
        "id": "c5bUHemu45Yt"
      },
      "source": [
        "df_train_sj  =  df_train.loc[df_train.city=='sj']\n",
        "df_train_iq  =  df_train.loc[df_train.city=='iq']"
      ],
      "execution_count": 52,
      "outputs": []
    },
    {
      "cell_type": "markdown",
      "metadata": {
        "id": "rflc02c6Hf7g"
      },
      "source": [
        "Elimino la variable \"city\" ya que es categorica y ya se han separado por cada ciudad.<br>\n"
      ]
    },
    {
      "cell_type": "code",
      "metadata": {
        "colab": {
          "base_uri": "https://localhost:8080/",
          "height": 0
        },
        "id": "U_EXsIFFewC0",
        "outputId": "0568dc37-9fb8-4c79-8b69-a34bed30aa0f"
      },
      "source": [
        "df_train_sj = df_train_sj.drop(columns=\"city\", axis=1)\n",
        "df_train_sj.head()"
      ],
      "execution_count": 53,
      "outputs": [
        {
          "output_type": "execute_result",
          "data": {
            "text/html": [
              "<div>\n",
              "<style scoped>\n",
              "    .dataframe tbody tr th:only-of-type {\n",
              "        vertical-align: middle;\n",
              "    }\n",
              "\n",
              "    .dataframe tbody tr th {\n",
              "        vertical-align: top;\n",
              "    }\n",
              "\n",
              "    .dataframe thead th {\n",
              "        text-align: right;\n",
              "    }\n",
              "</style>\n",
              "<table border=\"1\" class=\"dataframe\">\n",
              "  <thead>\n",
              "    <tr style=\"text-align: right;\">\n",
              "      <th></th>\n",
              "      <th>year</th>\n",
              "      <th>weekofyear</th>\n",
              "      <th>ndvi_ne</th>\n",
              "      <th>ndvi_nw</th>\n",
              "      <th>ndvi_se</th>\n",
              "      <th>ndvi_sw</th>\n",
              "      <th>precipitation_amt_mm</th>\n",
              "      <th>reanalysis_air_temp_c</th>\n",
              "      <th>reanalysis_avg_temp_c</th>\n",
              "      <th>reanalysis_dew_point_temp_c</th>\n",
              "      <th>reanalysis_max_air_temp_c</th>\n",
              "      <th>reanalysis_min_air_temp_c</th>\n",
              "      <th>reanalysis_precip_amt_kg_per_m2</th>\n",
              "      <th>reanalysis_relative_humidity_percent</th>\n",
              "      <th>reanalysis_sat_precip_amt_mm</th>\n",
              "      <th>reanalysis_specific_humidity_g_per_kg</th>\n",
              "      <th>reanalysis_tdtr_k</th>\n",
              "      <th>station_avg_temp_c</th>\n",
              "      <th>station_diur_temp_rng_c</th>\n",
              "      <th>station_max_temp_c</th>\n",
              "      <th>station_min_temp_c</th>\n",
              "      <th>station_precip_mm</th>\n",
              "      <th>total_cases</th>\n",
              "    </tr>\n",
              "  </thead>\n",
              "  <tbody>\n",
              "    <tr>\n",
              "      <th>0</th>\n",
              "      <td>1990</td>\n",
              "      <td>18</td>\n",
              "      <td>0.122600</td>\n",
              "      <td>0.103725</td>\n",
              "      <td>0.198483</td>\n",
              "      <td>0.177617</td>\n",
              "      <td>12.42</td>\n",
              "      <td>24.422857</td>\n",
              "      <td>24.592857</td>\n",
              "      <td>19.264286</td>\n",
              "      <td>26.65</td>\n",
              "      <td>22.75</td>\n",
              "      <td>32.00</td>\n",
              "      <td>73.365714</td>\n",
              "      <td>12.42</td>\n",
              "      <td>14.012857</td>\n",
              "      <td>2.628571</td>\n",
              "      <td>25.442857</td>\n",
              "      <td>6.900000</td>\n",
              "      <td>29.4</td>\n",
              "      <td>20.0</td>\n",
              "      <td>16.0</td>\n",
              "      <td>4.0</td>\n",
              "    </tr>\n",
              "    <tr>\n",
              "      <th>1</th>\n",
              "      <td>1990</td>\n",
              "      <td>19</td>\n",
              "      <td>0.169900</td>\n",
              "      <td>0.142175</td>\n",
              "      <td>0.162357</td>\n",
              "      <td>0.155486</td>\n",
              "      <td>22.82</td>\n",
              "      <td>25.061429</td>\n",
              "      <td>25.292857</td>\n",
              "      <td>20.801429</td>\n",
              "      <td>27.75</td>\n",
              "      <td>23.25</td>\n",
              "      <td>17.94</td>\n",
              "      <td>77.368571</td>\n",
              "      <td>22.82</td>\n",
              "      <td>15.372857</td>\n",
              "      <td>2.371429</td>\n",
              "      <td>26.714286</td>\n",
              "      <td>6.371429</td>\n",
              "      <td>31.7</td>\n",
              "      <td>22.2</td>\n",
              "      <td>8.6</td>\n",
              "      <td>5.0</td>\n",
              "    </tr>\n",
              "    <tr>\n",
              "      <th>2</th>\n",
              "      <td>1990</td>\n",
              "      <td>20</td>\n",
              "      <td>0.032250</td>\n",
              "      <td>0.172967</td>\n",
              "      <td>0.157200</td>\n",
              "      <td>0.170843</td>\n",
              "      <td>34.54</td>\n",
              "      <td>25.631429</td>\n",
              "      <td>25.728571</td>\n",
              "      <td>22.284286</td>\n",
              "      <td>27.35</td>\n",
              "      <td>24.15</td>\n",
              "      <td>26.10</td>\n",
              "      <td>82.052857</td>\n",
              "      <td>34.54</td>\n",
              "      <td>16.848571</td>\n",
              "      <td>2.300000</td>\n",
              "      <td>26.714286</td>\n",
              "      <td>6.485714</td>\n",
              "      <td>32.2</td>\n",
              "      <td>22.8</td>\n",
              "      <td>41.4</td>\n",
              "      <td>4.0</td>\n",
              "    </tr>\n",
              "    <tr>\n",
              "      <th>3</th>\n",
              "      <td>1990</td>\n",
              "      <td>21</td>\n",
              "      <td>0.128633</td>\n",
              "      <td>0.245067</td>\n",
              "      <td>0.227557</td>\n",
              "      <td>0.235886</td>\n",
              "      <td>15.36</td>\n",
              "      <td>25.837143</td>\n",
              "      <td>26.078571</td>\n",
              "      <td>22.160000</td>\n",
              "      <td>28.25</td>\n",
              "      <td>23.85</td>\n",
              "      <td>13.90</td>\n",
              "      <td>80.337143</td>\n",
              "      <td>15.36</td>\n",
              "      <td>16.672857</td>\n",
              "      <td>2.428571</td>\n",
              "      <td>27.471429</td>\n",
              "      <td>6.771429</td>\n",
              "      <td>33.3</td>\n",
              "      <td>23.3</td>\n",
              "      <td>4.0</td>\n",
              "      <td>3.0</td>\n",
              "    </tr>\n",
              "    <tr>\n",
              "      <th>4</th>\n",
              "      <td>1990</td>\n",
              "      <td>22</td>\n",
              "      <td>0.196200</td>\n",
              "      <td>0.262200</td>\n",
              "      <td>0.251200</td>\n",
              "      <td>0.247340</td>\n",
              "      <td>7.52</td>\n",
              "      <td>26.368571</td>\n",
              "      <td>26.514286</td>\n",
              "      <td>22.671429</td>\n",
              "      <td>28.75</td>\n",
              "      <td>24.35</td>\n",
              "      <td>12.20</td>\n",
              "      <td>80.460000</td>\n",
              "      <td>7.52</td>\n",
              "      <td>17.210000</td>\n",
              "      <td>3.014286</td>\n",
              "      <td>28.942857</td>\n",
              "      <td>9.371429</td>\n",
              "      <td>35.0</td>\n",
              "      <td>23.9</td>\n",
              "      <td>5.8</td>\n",
              "      <td>6.0</td>\n",
              "    </tr>\n",
              "  </tbody>\n",
              "</table>\n",
              "</div>"
            ],
            "text/plain": [
              "   year  weekofyear  ...  station_precip_mm  total_cases\n",
              "0  1990          18  ...               16.0          4.0\n",
              "1  1990          19  ...                8.6          5.0\n",
              "2  1990          20  ...               41.4          4.0\n",
              "3  1990          21  ...                4.0          3.0\n",
              "4  1990          22  ...                5.8          6.0\n",
              "\n",
              "[5 rows x 23 columns]"
            ]
          },
          "metadata": {},
          "execution_count": 53
        }
      ]
    },
    {
      "cell_type": "code",
      "metadata": {
        "colab": {
          "base_uri": "https://localhost:8080/",
          "height": 0
        },
        "id": "ShCgiO937XDu",
        "outputId": "b19e38ab-f1d3-4c7b-c6d5-40669ae56691"
      },
      "source": [
        "df_train_iq = df_train_iq.drop(columns=\"city\", axis=1)\n",
        "df_train_iq.head()"
      ],
      "execution_count": 54,
      "outputs": [
        {
          "output_type": "execute_result",
          "data": {
            "text/html": [
              "<div>\n",
              "<style scoped>\n",
              "    .dataframe tbody tr th:only-of-type {\n",
              "        vertical-align: middle;\n",
              "    }\n",
              "\n",
              "    .dataframe tbody tr th {\n",
              "        vertical-align: top;\n",
              "    }\n",
              "\n",
              "    .dataframe thead th {\n",
              "        text-align: right;\n",
              "    }\n",
              "</style>\n",
              "<table border=\"1\" class=\"dataframe\">\n",
              "  <thead>\n",
              "    <tr style=\"text-align: right;\">\n",
              "      <th></th>\n",
              "      <th>year</th>\n",
              "      <th>weekofyear</th>\n",
              "      <th>ndvi_ne</th>\n",
              "      <th>ndvi_nw</th>\n",
              "      <th>ndvi_se</th>\n",
              "      <th>ndvi_sw</th>\n",
              "      <th>precipitation_amt_mm</th>\n",
              "      <th>reanalysis_air_temp_c</th>\n",
              "      <th>reanalysis_avg_temp_c</th>\n",
              "      <th>reanalysis_dew_point_temp_c</th>\n",
              "      <th>reanalysis_max_air_temp_c</th>\n",
              "      <th>reanalysis_min_air_temp_c</th>\n",
              "      <th>reanalysis_precip_amt_kg_per_m2</th>\n",
              "      <th>reanalysis_relative_humidity_percent</th>\n",
              "      <th>reanalysis_sat_precip_amt_mm</th>\n",
              "      <th>reanalysis_specific_humidity_g_per_kg</th>\n",
              "      <th>reanalysis_tdtr_k</th>\n",
              "      <th>station_avg_temp_c</th>\n",
              "      <th>station_diur_temp_rng_c</th>\n",
              "      <th>station_max_temp_c</th>\n",
              "      <th>station_min_temp_c</th>\n",
              "      <th>station_precip_mm</th>\n",
              "      <th>total_cases</th>\n",
              "    </tr>\n",
              "  </thead>\n",
              "  <tbody>\n",
              "    <tr>\n",
              "      <th>936</th>\n",
              "      <td>2000</td>\n",
              "      <td>26</td>\n",
              "      <td>0.192886</td>\n",
              "      <td>0.132257</td>\n",
              "      <td>0.340886</td>\n",
              "      <td>0.247200</td>\n",
              "      <td>25.41</td>\n",
              "      <td>23.590000</td>\n",
              "      <td>25.300000</td>\n",
              "      <td>22.034286</td>\n",
              "      <td>34.15</td>\n",
              "      <td>19.95</td>\n",
              "      <td>43.19</td>\n",
              "      <td>92.418571</td>\n",
              "      <td>25.41</td>\n",
              "      <td>16.651429</td>\n",
              "      <td>8.928571</td>\n",
              "      <td>26.400000</td>\n",
              "      <td>10.775000</td>\n",
              "      <td>32.5</td>\n",
              "      <td>20.70000</td>\n",
              "      <td>3.0</td>\n",
              "      <td>0.0</td>\n",
              "    </tr>\n",
              "    <tr>\n",
              "      <th>937</th>\n",
              "      <td>2000</td>\n",
              "      <td>27</td>\n",
              "      <td>0.216833</td>\n",
              "      <td>0.276100</td>\n",
              "      <td>0.289457</td>\n",
              "      <td>0.241657</td>\n",
              "      <td>60.61</td>\n",
              "      <td>23.484286</td>\n",
              "      <td>25.278571</td>\n",
              "      <td>22.208571</td>\n",
              "      <td>33.45</td>\n",
              "      <td>17.95</td>\n",
              "      <td>46.00</td>\n",
              "      <td>93.581429</td>\n",
              "      <td>60.61</td>\n",
              "      <td>16.862857</td>\n",
              "      <td>10.314286</td>\n",
              "      <td>26.900000</td>\n",
              "      <td>11.566667</td>\n",
              "      <td>34.0</td>\n",
              "      <td>20.80000</td>\n",
              "      <td>55.6</td>\n",
              "      <td>0.0</td>\n",
              "    </tr>\n",
              "    <tr>\n",
              "      <th>938</th>\n",
              "      <td>2000</td>\n",
              "      <td>28</td>\n",
              "      <td>0.176757</td>\n",
              "      <td>0.173129</td>\n",
              "      <td>0.204114</td>\n",
              "      <td>0.128014</td>\n",
              "      <td>55.52</td>\n",
              "      <td>23.265714</td>\n",
              "      <td>24.242857</td>\n",
              "      <td>22.472857</td>\n",
              "      <td>31.35</td>\n",
              "      <td>19.45</td>\n",
              "      <td>64.77</td>\n",
              "      <td>95.848571</td>\n",
              "      <td>55.52</td>\n",
              "      <td>17.120000</td>\n",
              "      <td>7.385714</td>\n",
              "      <td>26.800000</td>\n",
              "      <td>11.466667</td>\n",
              "      <td>33.0</td>\n",
              "      <td>20.70000</td>\n",
              "      <td>38.1</td>\n",
              "      <td>0.0</td>\n",
              "    </tr>\n",
              "    <tr>\n",
              "      <th>939</th>\n",
              "      <td>2000</td>\n",
              "      <td>29</td>\n",
              "      <td>0.227729</td>\n",
              "      <td>0.145429</td>\n",
              "      <td>0.254200</td>\n",
              "      <td>0.200314</td>\n",
              "      <td>5.60</td>\n",
              "      <td>22.207143</td>\n",
              "      <td>23.078571</td>\n",
              "      <td>19.647143</td>\n",
              "      <td>30.45</td>\n",
              "      <td>15.45</td>\n",
              "      <td>23.96</td>\n",
              "      <td>87.234286</td>\n",
              "      <td>5.60</td>\n",
              "      <td>14.431429</td>\n",
              "      <td>9.114286</td>\n",
              "      <td>25.766667</td>\n",
              "      <td>10.533333</td>\n",
              "      <td>31.5</td>\n",
              "      <td>22.15754</td>\n",
              "      <td>30.0</td>\n",
              "      <td>0.0</td>\n",
              "    </tr>\n",
              "    <tr>\n",
              "      <th>940</th>\n",
              "      <td>2000</td>\n",
              "      <td>30</td>\n",
              "      <td>0.328643</td>\n",
              "      <td>0.322129</td>\n",
              "      <td>0.254371</td>\n",
              "      <td>0.190381</td>\n",
              "      <td>62.76</td>\n",
              "      <td>23.282857</td>\n",
              "      <td>24.485714</td>\n",
              "      <td>20.807143</td>\n",
              "      <td>33.85</td>\n",
              "      <td>18.35</td>\n",
              "      <td>31.80</td>\n",
              "      <td>88.161429</td>\n",
              "      <td>62.76</td>\n",
              "      <td>15.444286</td>\n",
              "      <td>9.500000</td>\n",
              "      <td>26.600000</td>\n",
              "      <td>11.480000</td>\n",
              "      <td>33.3</td>\n",
              "      <td>19.10000</td>\n",
              "      <td>4.0</td>\n",
              "      <td>0.0</td>\n",
              "    </tr>\n",
              "  </tbody>\n",
              "</table>\n",
              "</div>"
            ],
            "text/plain": [
              "     year  weekofyear  ...  station_precip_mm  total_cases\n",
              "936  2000          26  ...                3.0          0.0\n",
              "937  2000          27  ...               55.6          0.0\n",
              "938  2000          28  ...               38.1          0.0\n",
              "939  2000          29  ...               30.0          0.0\n",
              "940  2000          30  ...                4.0          0.0\n",
              "\n",
              "[5 rows x 23 columns]"
            ]
          },
          "metadata": {},
          "execution_count": 54
        }
      ]
    },
    {
      "cell_type": "code",
      "metadata": {
        "id": "ctjA3p2U_PVZ"
      },
      "source": [
        ""
      ],
      "execution_count": 54,
      "outputs": []
    },
    {
      "cell_type": "code",
      "metadata": {
        "colab": {
          "base_uri": "https://localhost:8080/"
        },
        "id": "jQEEfr0__Pla",
        "outputId": "c92663b3-bb1e-4307-aac8-7b0aa691e8eb"
      },
      "source": [
        "#Vista de los valores únicos en los atributos de tipo string\n",
        "\n",
        "print(f\"Valores presentes en el atributo: {df_test['city'].unique()} \\n\")\n",
        "\n",
        "#Vista de la cantidad de ocurrencias de cada valor\n",
        "\n",
        "print(f\"Conteo de ocurrencias por valor:\\n{df_test['city'].value_counts()}\")"
      ],
      "execution_count": 55,
      "outputs": [
        {
          "output_type": "stream",
          "name": "stdout",
          "text": [
            "Valores presentes en el atributo: ['sj' 'iq'] \n",
            "\n",
            "Conteo de ocurrencias por valor:\n",
            "sj    260\n",
            "iq    156\n",
            "Name: city, dtype: int64\n"
          ]
        }
      ]
    },
    {
      "cell_type": "code",
      "metadata": {
        "id": "44qUT6x3-sQJ"
      },
      "source": [
        "df_test_sj  =  df_test.loc[df_test.city=='sj']\n",
        "df_test_iq  =  df_test.loc[df_test.city=='iq']"
      ],
      "execution_count": 56,
      "outputs": []
    },
    {
      "cell_type": "markdown",
      "metadata": {
        "id": "mQhc_FSqU7Iw"
      },
      "source": [
        "#Modelo para la ciudad de San Juan\n",
        "\n",
        "En este apartado se probara realizar modelos supervisados para la ciudad de San juan. Primero tendremos en cuenta las variables que teniamos seleccionadas en la actividad 1, y por otro lado veremos la correlacion entre las variables y la variable objetivo. De esta manera se decidira la seleccion de variables para el modelo final\n"
      ]
    },
    {
      "cell_type": "code",
      "metadata": {
        "id": "sUQLtPCK8319"
      },
      "source": [
        "selected_features= ['reanalysis_max_air_temp_c',\n",
        "                      'reanalysis_dew_point_temp_c',\n",
        "                      'reanalysis_relative_humidity_percent',\n",
        "                      'reanalysis_precip_amt_kg_per_m2',\n",
        "                      'reanalysis_specific_humidity_g_per_kg',\n",
        "                      'reanalysis_tdtr_k',\n",
        "                      'station_diur_temp_rng_c',\n",
        "                      'station_max_temp_c',\n",
        "                      'station_precip_mm',\n",
        "                      'total_cases']"
      ],
      "execution_count": 530,
      "outputs": []
    },
    {
      "cell_type": "markdown",
      "metadata": {
        "id": "g0hDALmpjjaP"
      },
      "source": [
        "## Correlación entre variables\n",
        "\n",
        "Con el fin de que obtener un mejor rendimiento en el algoritmo de clustering será necesario identificar aquellas variables que son redundantes, es decir, se puede asumir que representan lo mismo, en este caso se puede utilizar el análisis de correlaciones. "
      ]
    },
    {
      "cell_type": "code",
      "metadata": {
        "colab": {
          "base_uri": "https://localhost:8080/",
          "height": 487
        },
        "id": "3Cjufj9DsMFY",
        "outputId": "e354bdf3-f27c-4349-a729-a55bfb1a9bbd"
      },
      "source": [
        "#Obtenemos la correlación de las caracteristicas con la variable objetivo, es decir, total_cases\n",
        "import numpy as np\n",
        "from scipy.stats.stats import pearsonr \n",
        "\n",
        "corr = [\n",
        "pearsonr(train['weekofyear'], train['total_cases'])[0],\n",
        "pearsonr(train['ndvi_ne'], train['total_cases'])[0],\n",
        "pearsonr(train['ndvi_nw'], train['total_cases'])[0],\n",
        "pearsonr(train['ndvi_se'], train['total_cases'])[0],\n",
        "pearsonr(train['ndvi_sw'], train['total_cases'])[0],\n",
        "pearsonr(train['precipitation_amt_mm'], train['total_cases'])[0],\n",
        "pearsonr(train['reanalysis_air_temp_c'], train['total_cases'])[0],\n",
        "pearsonr(train['reanalysis_avg_temp_c'], train['total_cases'])[0],\n",
        "pearsonr(train['reanalysis_dew_point_temp_c'], train['total_cases'])[0],\n",
        "pearsonr(train['reanalysis_max_air_temp_c'], train['total_cases'])[0],\n",
        "pearsonr(train['reanalysis_min_air_temp_c'], train['total_cases'])[0],\n",
        "pearsonr(train['reanalysis_precip_amt_kg_per_m2'], train['total_cases'])[0],\n",
        "pearsonr(train['reanalysis_relative_humidity_percent'], train['total_cases'])[0],\n",
        "pearsonr(train['reanalysis_sat_precip_amt_mm'], train['total_cases'])[0],\n",
        "pearsonr(train['reanalysis_specific_humidity_g_per_kg'], train['total_cases'])[0],\n",
        "pearsonr(train['reanalysis_tdtr_k'], train['total_cases'])[0],\n",
        "pearsonr(train['station_avg_temp_c'], train['total_cases'])[0],\n",
        "pearsonr(train['station_diur_temp_rng_c'], train['total_cases'])[0],\n",
        "pearsonr(train['station_max_temp_c'], train['total_cases'])[0],\n",
        "pearsonr(train['station_min_temp_c'], train['total_cases'])[0],\n",
        "pearsonr(train['station_precip_mm'], train['total_cases'])[0]\n",
        "]\n",
        "\n",
        "\n",
        "features= (\n",
        "'weekofyear',\n",
        "'ndvi_ne',\n",
        "'ndvi_nw',\n",
        "'ndvi_se',\n",
        "'ndvi_sw',\n",
        "'precipitation_amt_mm',\n",
        "'reanalysis_air_temp_c',\n",
        "'reanalysis_avg_temp_c',\n",
        "'reanalysis_dew_point_temp_c',\n",
        "'reanalysis_max_air_temp_c',\n",
        "'reanalysis_min_air_temp_c',\n",
        "'reanalysis_precip_amt_kg_per_m2',\n",
        "'reanalysis_relative_humidity_percent',\n",
        "'reanalysis_sat_precip_amt_mm',\n",
        "'reanalysis_specific_humidity_g_per_kg',\n",
        "'reanalysis_tdtr_k',\n",
        "'station_avg_temp_c',\n",
        "'station_diur_temp_rng_c',\n",
        "'station_max_temp_c',\n",
        "'station_min_temp_c',\n",
        "'station_precip_mm'\n",
        ")\n",
        "\n",
        "\n",
        "\n",
        "\n",
        "y_pos = np.arange(len(features))\n",
        " \n",
        "plt.bar(y_pos, corr, align='center', alpha=0.5)\n",
        "plt.xticks(y_pos, features)\n",
        "plt.ylabel('Correlation')\n",
        "plt.title('Correlation features vs target - San Juan')\n",
        "plt.xticks(rotation='vertical')\n",
        "plt.show()"
      ],
      "execution_count": 531,
      "outputs": [
        {
          "output_type": "display_data",
          "data": {
            "image/png": "[encoded data removed]",
            "text/plain": [
              "<Figure size 432x288 with 1 Axes>"
            ]
          },
          "metadata": {}
        }
      ]
    },
    {
      "cell_type": "markdown",
      "metadata": {
        "id": "zXUF8oV0u5sS"
      },
      "source": [
        "Teniendo en cuenta el analisis anterior,vemos que hay variables que estan visiblemente mas correlacionadas con la variable objetivo, con lo cual finalmente nos quedamos con la seleccion de las siguientes variables:"
      ]
    },
    {
      "cell_type": "code",
      "metadata": {
        "id": "P7WMh_BLuzk8"
      },
      "source": [
        "selected_features_1= ['weekofyear',\n",
        "                      'reanalysis_relative_humidity_percent',\n",
        "                      'reanalysis_precip_amt_kg_per_m2',\n",
        "                      'reanalysis_specific_humidity_g_per_kg',\n",
        "                      'reanalysis_tdtr_k',\n",
        "                      'total_cases'\n",
        "                     ]\n",
        "selected_features_t= ['weekofyear',\n",
        "                      'reanalysis_relative_humidity_percent',\n",
        "                      'reanalysis_precip_amt_kg_per_m2',\n",
        "                      'reanalysis_specific_humidity_g_per_kg',\n",
        "                      'reanalysis_tdtr_k',\n",
        "                     ]"
      ],
      "execution_count": 534,
      "outputs": []
    },
    {
      "cell_type": "code",
      "metadata": {
        "id": "42VdU4W3DpEP"
      },
      "source": [
        "train=df_train_sj[selected_features_1]\n",
        "test=df_test_sj[selected_features_t]\n"
      ],
      "execution_count": 535,
      "outputs": []
    },
    {
      "cell_type": "markdown",
      "metadata": {
        "id": "IrwPSRgusFvk"
      },
      "source": [
        "##Normalizacion de datos"
      ]
    },
    {
      "cell_type": "markdown",
      "metadata": {
        "id": "Rnt_9Hm0I1G_"
      },
      "source": [
        "Normalizamos los datos a partir de los coeficientes mínimo y máximo "
      ]
    },
    {
      "cell_type": "code",
      "metadata": {
        "colab": {
          "base_uri": "https://localhost:8080/"
        },
        "id": "N8lRL_kp8wQb",
        "outputId": "a0ab8516-dfd3-465d-d224-8ca6faf01cb9"
      },
      "source": [
        "from sklearn.preprocessing import MinMaxScaler\n",
        "# performin min-max scaling each continuous feature column to the range [0, 1]\n",
        "scaler = MinMaxScaler()\n",
        "X_train = scaler.fit_transform(train[selected_features_1])\n",
        "X_train"
      ],
      "execution_count": 536,
      "outputs": [
        {
          "output_type": "execute_result",
          "data": {
            "text/plain": [
              "array([[0.32692308, 0.3181382 , 0.46920821, 0.27403019, 0.41395349,\n",
              "        0.13793103],\n",
              "       [0.34615385, 0.51021387, 0.26304985, 0.45595261, 0.33023256,\n",
              "        0.17241379],\n",
              "       [0.36538462, 0.73498766, 0.38269795, 0.65335372, 0.30697674,\n",
              "        0.13793103],\n",
              "       ...,\n",
              "       [0.26923077, 0.39786126, 0.51319648, 0.29696159, 0.26976744,\n",
              "        0.03448276],\n",
              "       [0.28846154, 0.26631478, 0.07067449, 0.25339194, 0.46511628,\n",
              "        0.10344828],\n",
              "       [0.30769231, 0.49060872, 0.03181818, 0.49589146, 0.84651163,\n",
              "        0.17241379]])"
            ]
          },
          "metadata": {},
          "execution_count": 536
        }
      ]
    },
    {
      "cell_type": "markdown",
      "metadata": {
        "id": "ZeFLLRJz-yY5"
      },
      "source": [
        "##Parametrización los datos "
      ]
    },
    {
      "cell_type": "code",
      "metadata": {
        "colab": {
          "base_uri": "https://localhost:8080/",
          "height": 302
        },
        "id": "ko07XPzi-1QM",
        "outputId": "6d7abe62-c13f-4c1f-f8c8-6e2ef182c5d7"
      },
      "source": [
        "# Compute the max \n",
        "from sklearn.tree import DecisionTreeRegressor\n",
        "mae = []\n",
        "from sklearn.metrics import mean_absolute_error\n",
        "for i in range(2, 50):\n",
        "    regressor = DecisionTreeRegressor(max_depth=i)\n",
        "\n",
        "    regressor.fit(train[selected_features_1], train['total_cases'])\n",
        "\n",
        "    pred_values = regressor.predict(train[selected_features_1])\n",
        "\n",
        "    maev = mean_absolute_error(train['total_cases'],pred_values)\n",
        "    mae.append(maev)\n",
        "    \n",
        "# Plot mae   \n",
        "print ('Datos de la ciudad de  San Juan')\n",
        "plt.plot(range(2,50), mae, marker='o')\n",
        "plt.xlabel('max_depth')\n",
        "plt.ylabel('mae')\n",
        "plt.show()"
      ],
      "execution_count": 537,
      "outputs": [
        {
          "output_type": "stream",
          "name": "stdout",
          "text": [
            "Datos de la ciudad de  San Juan\n"
          ]
        },
        {
          "output_type": "display_data",
          "data": {
            "image/png": "[encoded data removed]",
            "text/plain": [
              "<Figure size 432x288 with 1 Axes>"
            ]
          },
          "metadata": {}
        }
      ]
    },
    {
      "cell_type": "markdown",
      "metadata": {
        "id": "vZX-qJ9sjoGh"
      },
      "source": [
        "Un árbol muy profundo aprenderá con muy poco error el valor del conjunto de entrenamiento. Pero el problema está en el sobreaprendizaje, es decir, aprenderemos muy en detalle las observaciones del conjunto de entrenamiento pero seremos muy poco flexibles ante nuevas circunstancias. \n",
        "\n",
        "Para evitar este sobreaprendizaje vamos a probar a realizar **evaluación cruzada**, es decir, evaluar las parametrizaciones ante diferentes subconjuntos de entrenamiento y de test."
      ]
    },
    {
      "cell_type": "code",
      "metadata": {
        "colab": {
          "base_uri": "https://localhost:8080/",
          "height": 285
        },
        "id": "wDsslOcWJChU",
        "outputId": "dc334784-d3c0-4b12-fa95-544fe45452c7"
      },
      "source": [
        "# CROSS VALIDATION ANALYSIS\n",
        "from sklearn.metrics import mean_absolute_error\n",
        "\n",
        "from sklearn.model_selection import KFold\n",
        "cv = KFold(n_splits = 10, shuffle = True, random_state=0) # \n",
        "\n",
        "# reset index\n",
        "train.reset_index(drop = True, inplace = True)\n",
        "train.head()\n",
        "\n",
        "total_scores = []\n",
        "for i in range(2, 50):\n",
        "   regressor = DecisionTreeRegressor(max_depth=i)\n",
        "   fold_accuracy = []\n",
        "   for train_fold, test_fold in cv.split(train):\n",
        "      # División train test aleatoria\n",
        "      f_train = train.loc[train_fold]\n",
        "      f_test = train.loc[test_fold]\n",
        "      # entrenamiento y ejecución del modelo\n",
        "      regressor.fit( X = f_train.drop(['total_cases'], axis=1), \n",
        "                           y = f_train['total_cases'])\n",
        "      y_pred = regressor.predict(X = f_test.drop(['total_cases'], axis = 1))\n",
        "      # evaluación del modelo\n",
        "      mae = mean_absolute_error(f_test['total_cases'], y_pred)\n",
        "      fold_accuracy.append(mae)\n",
        "   total_scores.append(sum(fold_accuracy)/len(fold_accuracy))\n",
        "\n",
        "\n",
        "max_depth = np.argmin(total_scores) + 2\n",
        "print ('Min Value ' + str(min(total_scores)) +\" (\" + str(max_depth) + \")\")\n",
        "\n",
        "  \n",
        "plt.plot(range(1,len(total_scores)+1), total_scores, \n",
        "         marker='o')\n",
        "plt.ylabel('MAE')   \n",
        "\n",
        "plt.show() \n",
        "\n"
      ],
      "execution_count": 538,
      "outputs": [
        {
          "output_type": "stream",
          "name": "stdout",
          "text": [
            "Min Value 4.7326669869422995 (2)\n"
          ]
        },
        {
          "output_type": "display_data",
          "data": {
            "image/png": "[encoded data removed]",
            "text/plain": [
              "<Figure size 432x288 with 1 Axes>"
            ]
          },
          "metadata": {}
        }
      ]
    },
    {
      "cell_type": "code",
      "metadata": {
        "colab": {
          "base_uri": "https://localhost:8080/"
        },
        "id": "KLvmHgyWL8BP",
        "outputId": "5336d7b9-eaa3-4657-864c-d6601c4f985f"
      },
      "source": [
        "#Valores del Cross Validation: Precisión por Profundidad\n",
        "total_scores"
      ],
      "execution_count": 539,
      "outputs": [
        {
          "output_type": "execute_result",
          "data": {
            "text/plain": [
              "[4.7326669869422995,\n",
              " 4.755500410786591,\n",
              " 4.796917903403629,\n",
              " 4.941942826859339,\n",
              " 5.098028132339602,\n",
              " 5.345032189265504,\n",
              " 5.566102339966244,\n",
              " 5.620128531476342,\n",
              " 5.971061429662818,\n",
              " 6.0268360637731995,\n",
              " 6.122904072691466,\n",
              " 6.290500201003715,\n",
              " 6.3853681528546495,\n",
              " 6.381245003391955,\n",
              " 6.454890326219906,\n",
              " 6.439937589288436,\n",
              " 6.541486688526684,\n",
              " 6.575576166194976,\n",
              " 6.473032078389691,\n",
              " 6.560280151720993,\n",
              " 6.57504133300978,\n",
              " 6.5848245158479015,\n",
              " 6.551629919035702,\n",
              " 6.519169167038352,\n",
              " 6.468603610046424,\n",
              " 6.477499127167219,\n",
              " 6.603373518465806,\n",
              " 6.523748010418369,\n",
              " 6.595554040346268,\n",
              " 6.6142966359245365,\n",
              " 6.518641630666889,\n",
              " 6.564364856194059,\n",
              " 6.56608258131129,\n",
              " 6.542319803634607,\n",
              " 6.587585286592533,\n",
              " 6.627736764256089,\n",
              " 6.4528374200823775,\n",
              " 6.4778199430721894,\n",
              " 6.411746651864386,\n",
              " 6.560731824655818,\n",
              " 6.532783082782805,\n",
              " 6.549795878489408,\n",
              " 6.5786109006589495,\n",
              " 6.566212749914223,\n",
              " 6.6126739301507005,\n",
              " 6.49316558656191,\n",
              " 6.647294069171322,\n",
              " 6.55348387066599]"
            ]
          },
          "metadata": {},
          "execution_count": 539
        }
      ]
    },
    {
      "cell_type": "markdown",
      "metadata": {
        "id": "ee4b4qk5XNkp"
      },
      "source": [
        "##Constructor del modelo \n",
        "\n"
      ]
    },
    {
      "cell_type": "code",
      "metadata": {
        "id": "CT-gjUX1S9Em",
        "cellView": "both"
      },
      "source": [
        "# constructor\n",
        "regressor = DecisionTreeRegressor(max_depth = max_depth)\n",
        "# fit and predict\n",
        "\n",
        "regressor.fit( X = train.drop(['total_cases'], axis=1), y = train['total_cases'])\n",
        "y_pred = regressor.predict(test)\n",
        "#mae = mean_absolute_error(test['count'], y_pred)\n",
        "#print ('MAE', mae)\n",
        "# round the result and cast to int\n",
        "import numpy as np\n",
        "res = np.rint(y_pred) # round\n",
        "res = res.astype(int) # cast to int\n",
        "# generate output\n",
        "output1 = pd.DataFrame({ 'city': df_test_sj['city'], 'year': df_test_sj['year'], 'weekofyear': df_test_sj['weekofyear'],'total_cases': res })\n"
      ],
      "execution_count": 541,
      "outputs": []
    },
    {
      "cell_type": "markdown",
      "metadata": {
        "id": "xvyikz7kmloi"
      },
      "source": [
        "#Modelo para la ciudad de Iquitos\n",
        "\n",
        "En este apartado se probara realizar modelos supervisados para la ciudad de Iquitos\n"
      ]
    },
    {
      "cell_type": "code",
      "metadata": {
        "id": "f_LSvzswyj1k"
      },
      "source": [
        "selected_features= ['reanalysis_max_air_temp_c',\n",
        "                      'reanalysis_dew_point_temp_c',\n",
        "                      'reanalysis_relative_humidity_percent',\n",
        "                      'reanalysis_precip_amt_kg_per_m2',\n",
        "                      'reanalysis_specific_humidity_g_per_kg',\n",
        "                      'reanalysis_tdtr_k',\n",
        "                      'station_diur_temp_rng_c',\n",
        "                      'station_max_temp_c',\n",
        "                      'station_precip_mm',\n",
        "                      'total_cases']"
      ],
      "execution_count": 542,
      "outputs": []
    },
    {
      "cell_type": "markdown",
      "metadata": {
        "id": "mX5jAzNixudT"
      },
      "source": [
        "## Correlación entre variables\n",
        "\n",
        "Con el fin de que obtener un mejor rendimiento en el algoritmo de clustering será necesario identificar aquellas variables que son redundantes, es decir, se puede asumir que representan lo mismo, en este caso se puede utilizar el análisis de correlaciones. "
      ]
    },
    {
      "cell_type": "code",
      "metadata": {
        "colab": {
          "base_uri": "https://localhost:8080/",
          "height": 487
        },
        "id": "3vmP1RTjx262",
        "outputId": "74599771-4fb4-46c4-f00a-2c3a3f4c4a99"
      },
      "source": [
        "#Obtenemos la correlación de las caracteristicas con la variable objetivo, es decir, total_cases\n",
        "import numpy as np\n",
        "from scipy.stats.stats import pearsonr \n",
        "\n",
        "corr = [\n",
        "pearsonr(train['weekofyear'], train['total_cases'])[0],\n",
        "pearsonr(train['ndvi_ne'], train['total_cases'])[0],\n",
        "pearsonr(train['ndvi_nw'], train['total_cases'])[0],\n",
        "pearsonr(train['ndvi_se'], train['total_cases'])[0],\n",
        "pearsonr(train['ndvi_sw'], train['total_cases'])[0],\n",
        "pearsonr(train['precipitation_amt_mm'], train['total_cases'])[0],\n",
        "pearsonr(train['reanalysis_air_temp_c'], train['total_cases'])[0],\n",
        "pearsonr(train['reanalysis_avg_temp_c'], train['total_cases'])[0],\n",
        "pearsonr(train['reanalysis_dew_point_temp_c'], train['total_cases'])[0],\n",
        "pearsonr(train['reanalysis_max_air_temp_c'], train['total_cases'])[0],\n",
        "pearsonr(train['reanalysis_min_air_temp_c'], train['total_cases'])[0],\n",
        "pearsonr(train['reanalysis_precip_amt_kg_per_m2'], train['total_cases'])[0],\n",
        "pearsonr(train['reanalysis_relative_humidity_percent'], train['total_cases'])[0],\n",
        "pearsonr(train['reanalysis_sat_precip_amt_mm'], train['total_cases'])[0],\n",
        "pearsonr(train['reanalysis_specific_humidity_g_per_kg'], train['total_cases'])[0],\n",
        "pearsonr(train['reanalysis_tdtr_k'], train['total_cases'])[0],\n",
        "pearsonr(train['station_avg_temp_c'], train['total_cases'])[0],\n",
        "pearsonr(train['station_diur_temp_rng_c'], train['total_cases'])[0],\n",
        "pearsonr(train['station_max_temp_c'], train['total_cases'])[0],\n",
        "pearsonr(train['station_min_temp_c'], train['total_cases'])[0],\n",
        "pearsonr(train['station_precip_mm'], train['total_cases'])[0]\n",
        "]\n",
        "\n",
        "\n",
        "features= (\n",
        "'weekofyear',\n",
        "'ndvi_ne',\n",
        "'ndvi_nw',\n",
        "'ndvi_se',\n",
        "'ndvi_sw',\n",
        "'precipitation_amt_mm',\n",
        "'reanalysis_air_temp_c',\n",
        "'reanalysis_avg_temp_c',\n",
        "'reanalysis_dew_point_temp_c',\n",
        "'reanalysis_max_air_temp_c',\n",
        "'reanalysis_min_air_temp_c',\n",
        "'reanalysis_precip_amt_kg_per_m2',\n",
        "'reanalysis_relative_humidity_percent',\n",
        "'reanalysis_sat_precip_amt_mm',\n",
        "'reanalysis_specific_humidity_g_per_kg',\n",
        "'reanalysis_tdtr_k',\n",
        "'station_avg_temp_c',\n",
        "'station_diur_temp_rng_c',\n",
        "'station_max_temp_c',\n",
        "'station_min_temp_c',\n",
        "'station_precip_mm'\n",
        ")\n",
        "\n",
        "\n",
        "\n",
        "\n",
        "y_pos = np.arange(len(features))\n",
        " \n",
        "plt.bar(y_pos, corr, align='center', alpha=0.5)\n",
        "plt.xticks(y_pos, features)\n",
        "plt.ylabel('Correlation')\n",
        "plt.title('Correlation features vs target - San Juan')\n",
        "plt.xticks(rotation='vertical')\n",
        "plt.show()"
      ],
      "execution_count": 344,
      "outputs": [
        {
          "output_type": "display_data",
          "data": {
            "image/png": "[encoded data removed]",
            "text/plain": [
              "<Figure size 432x288 with 1 Axes>"
            ]
          },
          "metadata": {}
        }
      ]
    },
    {
      "cell_type": "markdown",
      "metadata": {
        "id": "0HOrSdRVx_oZ"
      },
      "source": [
        "Teniendo en cuenta el analisis anterior,vemos que hay variables que estan visiblemente mas correlacionadas con la variable objetivo, con lo cual finalmente nos quedamos con la seleccion de las siguientes variables:"
      ]
    },
    {
      "cell_type": "code",
      "metadata": {
        "id": "gJQBphgbyOeB"
      },
      "source": [
        "selected_features_1= ['reanalysis_dew_point_temp_c',\n",
        "                      'reanalysis_min_air_temp_c',\n",
        "                      'reanalysis_specific_humidity_g_per_kg',\n",
        "                      'station_min_temp_c',\n",
        "                      'total_cases'\n",
        "                     ]\n",
        "selected_features_t= ['reanalysis_dew_point_temp_c',\n",
        "                      'reanalysis_min_air_temp_c',\n",
        "                      'reanalysis_specific_humidity_g_per_kg',\n",
        "                      'station_min_temp_c',\n",
        "                     ]\n",
        "                                         "
      ],
      "execution_count": 543,
      "outputs": []
    },
    {
      "cell_type": "code",
      "metadata": {
        "id": "C8PadplaVwG-"
      },
      "source": [
        "train=df_train_iq[selected_features_1]\n",
        "test=df_test_iq[selected_features_t]"
      ],
      "execution_count": 544,
      "outputs": []
    },
    {
      "cell_type": "markdown",
      "metadata": {
        "id": "FhXeP_cEyDPO"
      },
      "source": [
        "##Normalizacion de datos"
      ]
    },
    {
      "cell_type": "markdown",
      "metadata": {
        "id": "FEgRYJCPRdZY"
      },
      "source": [
        "Normalizamos los datos a partir de los coeficientes mínimo y máximo "
      ]
    },
    {
      "cell_type": "code",
      "metadata": {
        "colab": {
          "base_uri": "https://localhost:8080/"
        },
        "id": "HDRzeimrRjow",
        "outputId": "1df26454-1a28-47fa-f9eb-7bcf21112ad9"
      },
      "source": [
        "from sklearn.preprocessing import MinMaxScaler\n",
        "# performin min-max scaling each continuous feature column to the range [0, 1]\n",
        "scaler = MinMaxScaler()\n",
        "X_train = scaler.fit_transform(train[selected_features_1])\n",
        "X_train"
      ],
      "execution_count": 545,
      "outputs": [
        {
          "output_type": "execute_result",
          "data": {
            "text/plain": [
              "array([[0.56340718, 0.63291139, 0.54371257, 0.43548387, 0.        ],\n",
              "       [0.58670741, 0.37974684, 0.56903336, 0.4516129 , 0.        ],\n",
              "       [0.62203972, 0.56962025, 0.59982891, 0.43548387, 0.        ],\n",
              "       ...,\n",
              "       [0.60580596, 0.5443038 , 0.58648417, 0.19354839, 0.03448276],\n",
              "       [0.58212376, 0.48101266, 0.56338751, 0.48387097, 0.03448276],\n",
              "       [0.64667685, 0.53164557, 0.62805817, 0.67741935, 0.13793103]])"
            ]
          },
          "metadata": {},
          "execution_count": 545
        }
      ]
    },
    {
      "cell_type": "markdown",
      "metadata": {
        "id": "486GkaSyRq8U"
      },
      "source": [
        "##Parametrización los datos "
      ]
    },
    {
      "cell_type": "code",
      "metadata": {
        "colab": {
          "base_uri": "https://localhost:8080/",
          "height": 302
        },
        "id": "NCwSgED5Rv9c",
        "outputId": "483407af-daa3-4d60-c892-50bdffe45a69"
      },
      "source": [
        "# Compute the max \n",
        "from sklearn.tree import DecisionTreeRegressor\n",
        "mae = []\n",
        "from sklearn.metrics import mean_absolute_error\n",
        "for i in range(2, 50):\n",
        "    regressor = DecisionTreeRegressor(max_depth=i)\n",
        "\n",
        "    regressor.fit(train[selected_features_1], train['total_cases'])\n",
        "\n",
        "    pred_values = regressor.predict(train[selected_features_1])\n",
        "\n",
        "    maev = mean_absolute_error(train['total_cases'],pred_values)\n",
        "    mae.append(maev)\n",
        "    \n",
        "# Plot mae   \n",
        "print ('Datos de la ciudad de  San Juan')\n",
        "plt.plot(range(2,50), mae, marker='o')\n",
        "plt.xlabel('max_depth')\n",
        "plt.ylabel('mae')\n",
        "plt.show()"
      ],
      "execution_count": 546,
      "outputs": [
        {
          "output_type": "stream",
          "name": "stdout",
          "text": [
            "Datos de la ciudad de  San Juan\n"
          ]
        },
        {
          "output_type": "display_data",
          "data": {
            "image/png": "[encoded data removed]",
            "text/plain": [
              "<Figure size 432x288 with 1 Axes>"
            ]
          },
          "metadata": {}
        }
      ]
    },
    {
      "cell_type": "markdown",
      "metadata": {
        "id": "T8cPt5ktVdNf"
      },
      "source": [
        "Un árbol muy profundo aprenderá con muy poco error el valor del conjunto de entrenamiento. Pero el problema está en el sobreaprendizaje, es decir, aprenderemos muy en detalle las observaciones del conjunto de entrenamiento pero seremos muy poco flexibles ante nuevas circunstancias. \n",
        "\n",
        "Para evitar este sobreaprendizaje vamos a probar a realizar **evaluación cruzada**, es decir, evaluar las parametrizaciones ante diferentes subconjuntos de entrenamiento y de test."
      ]
    },
    {
      "cell_type": "code",
      "metadata": {
        "colab": {
          "base_uri": "https://localhost:8080/",
          "height": 285
        },
        "id": "FadCEJvFVhh2",
        "outputId": "d5674c6a-b333-4207-89ff-20ecdcf3e04a"
      },
      "source": [
        "# CROSS VALIDATION ANALYSIS\n",
        "from sklearn.metrics import mean_absolute_error\n",
        "\n",
        "from sklearn.model_selection import KFold\n",
        "cv = KFold(n_splits = 10, shuffle = True, random_state=0) # \n",
        "\n",
        "# reset index\n",
        "train.reset_index(drop = True, inplace = True)\n",
        "train.head()\n",
        "\n",
        "total_scores = []\n",
        "for i in range(2, 50):\n",
        "   regressor = DecisionTreeRegressor(max_depth=i)\n",
        "   fold_accuracy = []\n",
        "   for train_fold, test_fold in cv.split(train):\n",
        "      # División train test aleatoria\n",
        "      f_train = train.loc[train_fold]\n",
        "      f_test = train.loc[test_fold]\n",
        "      # entrenamiento y ejecución del modelo\n",
        "      regressor.fit( X = f_train.drop(['total_cases'], axis=1), \n",
        "                           y = f_train['total_cases'])\n",
        "      y_pred = regressor.predict(X = f_test.drop(['total_cases'], axis = 1))\n",
        "      # evaluación del modelo\n",
        "      mae = mean_absolute_error(f_test['total_cases'], y_pred)\n",
        "      fold_accuracy.append(mae)\n",
        "   total_scores.append(sum(fold_accuracy)/len(fold_accuracy))\n",
        "\n",
        "\n",
        "max_depth = np.argmin(total_scores) + 2\n",
        "print ('Min Value ' + str(min(total_scores)) +\" (\" + str(max_depth) + \")\")\n",
        "\n",
        "  \n",
        "plt.plot(range(1,len(total_scores)+1), total_scores, \n",
        "         marker='o')\n",
        "plt.ylabel('MAE')   \n",
        "\n",
        "plt.show() \n",
        "\n"
      ],
      "execution_count": 547,
      "outputs": [
        {
          "output_type": "stream",
          "name": "stdout",
          "text": [
            "Min Value 4.764864684230784 (2)\n"
          ]
        },
        {
          "output_type": "display_data",
          "data": {
            "image/png": "[encoded data removed]",
            "text/plain": [
              "<Figure size 432x288 with 1 Axes>"
            ]
          },
          "metadata": {}
        }
      ]
    },
    {
      "cell_type": "code",
      "metadata": {
        "colab": {
          "base_uri": "https://localhost:8080/"
        },
        "id": "4cwANSX9SIhY",
        "outputId": "8a0d3bc4-e20c-4980-b76b-ad1c1c737675"
      },
      "source": [
        "#Valores del Cross Validation: Precisión por Profundidad\n",
        "total_scores"
      ],
      "execution_count": 548,
      "outputs": [
        {
          "output_type": "execute_result",
          "data": {
            "text/plain": [
              "[4.764864684230784,\n",
              " 4.778998076118747,\n",
              " 4.815832498550071,\n",
              " 4.980121601279307,\n",
              " 5.214197676380663,\n",
              " 5.450720175571104,\n",
              " 5.507883930032817,\n",
              " 5.802106041434562,\n",
              " 5.963690540183129,\n",
              " 6.0218987626253515,\n",
              " 6.160481711889299,\n",
              " 6.189056550173684,\n",
              " 6.378571095087851,\n",
              " 6.3707836409223955,\n",
              " 6.254674880448783,\n",
              " 6.360358687365091,\n",
              " 6.309221620950761,\n",
              " 6.400796038293021,\n",
              " 6.186421265120914,\n",
              " 6.456084204680328,\n",
              " 6.404699516760876,\n",
              " 6.483349204763398,\n",
              " 6.431375683573117,\n",
              " 6.30910108674156,\n",
              " 6.256632631878514,\n",
              " 6.4086907291238076,\n",
              " 6.287544134825431,\n",
              " 6.407205540286569,\n",
              " 6.5161795009607975,\n",
              " 6.405683401661091,\n",
              " 6.131749516986188,\n",
              " 6.453754017084393,\n",
              " 6.309560030199757,\n",
              " 6.44136682996635,\n",
              " 6.367411784716645,\n",
              " 6.38506617746992,\n",
              " 6.419920260951558,\n",
              " 6.5038234315575325,\n",
              " 6.222491661346323,\n",
              " 6.450853546903931,\n",
              " 6.4966301425351345,\n",
              " 6.345515359359153,\n",
              " 6.240624021692987,\n",
              " 6.381758690407958,\n",
              " 6.525414998355108,\n",
              " 6.334236832646299,\n",
              " 6.4182673414006715,\n",
              " 6.266722844529641]"
            ]
          },
          "metadata": {},
          "execution_count": 548
        }
      ]
    },
    {
      "cell_type": "markdown",
      "metadata": {
        "id": "ltAFZGCxXVJV"
      },
      "source": [
        "##Constructor del modelo \n",
        "\n"
      ]
    },
    {
      "cell_type": "code",
      "metadata": {
        "cellView": "both",
        "id": "DyYdNK_7o7ty"
      },
      "source": [
        "# constructor\n",
        "regressor = DecisionTreeRegressor(max_depth = max_depth)\n",
        "# fit and predict\n",
        "\n",
        "regressor.fit( X = train.drop(['total_cases'], axis=1), y = train['total_cases'])\n",
        "y_pred = regressor.predict(test)\n",
        "#mae = mean_absolute_error(test['count'], y_pred)\n",
        "#print ('MAE', mae)\n",
        "# round the result and cast to int\n",
        "import numpy as np\n",
        "res = np.rint(y_pred) # round\n",
        "res = res.astype(int) # cast to int\n",
        "# generate output\n",
        "output2 = pd.DataFrame({ 'city': df_test_iq['city'], 'year': df_test_iq['year'], 'weekofyear': df_test_iq['weekofyear'],'total_cases': res })\n"
      ],
      "execution_count": 550,
      "outputs": []
    },
    {
      "cell_type": "markdown",
      "metadata": {
        "id": "AP3MlYBCDYAP"
      },
      "source": [
        "#Modelo San Juan (RamdonForest)"
      ]
    },
    {
      "cell_type": "code",
      "metadata": {
        "id": "X0Zx7dyp1Z9i"
      },
      "source": [
        "selected_features_1= ['weekofyear',\n",
        "                     'reanalysis_max_air_temp_c',\n",
        "                      'reanalysis_relative_humidity_percent',\n",
        "                      'reanalysis_precip_amt_kg_per_m2',\n",
        "                      'reanalysis_specific_humidity_g_per_kg',\n",
        "                      'reanalysis_tdtr_k'\n",
        "                     ]"
      ],
      "execution_count": 57,
      "outputs": []
    },
    {
      "cell_type": "code",
      "metadata": {
        "id": "wxDS-e4WhiMq"
      },
      "source": [
        "selected_features_1= ['weekofyear',\n",
        "                      'reanalysis_relative_humidity_percent',\n",
        "                      'reanalysis_precip_amt_kg_per_m2',\n",
        "                      'reanalysis_specific_humidity_g_per_kg',\n",
        "                      'reanalysis_tdtr_k',\n",
        "                      'total_cases'\n",
        "                     ]\n",
        "selected_features_t= ['weekofyear',\n",
        "                      'reanalysis_relative_humidity_percent',\n",
        "                      'reanalysis_precip_amt_kg_per_m2',\n",
        "                      'reanalysis_specific_humidity_g_per_kg',\n",
        "                      'reanalysis_tdtr_k',\n",
        "                     ]"
      ],
      "execution_count": 58,
      "outputs": []
    },
    {
      "cell_type": "code",
      "metadata": {
        "id": "Kjb9ixJ-hrUg"
      },
      "source": [
        "train=df_train_sj[selected_features_1]\n",
        "test=df_test_sj[selected_features_t]\n"
      ],
      "execution_count": 59,
      "outputs": []
    },
    {
      "cell_type": "code",
      "metadata": {
        "id": "IurweqcWDeKO"
      },
      "source": [
        "import numpy as np\n",
        "import matplotlib.pyplot as plt\n",
        "from scipy.stats import randint as sp_randint\n",
        "\n",
        "from sklearn.ensemble import RandomForestRegressor\n",
        "\n",
        "\n",
        "from sklearn.model_selection import RandomizedSearchCV\n",
        "from sklearn.model_selection import GridSearchCV\n",
        "\n",
        "regressor = RandomForestRegressor() \n"
      ],
      "execution_count": 60,
      "outputs": []
    },
    {
      "cell_type": "code",
      "metadata": {
        "id": "zEAgBk9PViSx"
      },
      "source": [
        "def report(results, n_top=3): # Función para mostrar resultados\n",
        "    for i in range(1, n_top + 1):\n",
        "        candidates = np.flatnonzero(results['rank_test_score'] == i)\n",
        "        for candidate in candidates:\n",
        "            print(\"Model with rank: {0}\".format(i))\n",
        "            print(\"Mean validation score: {0:.3f} (std: {1:.3f})\".format(\n",
        "                  results['mean_test_score'][candidate],\n",
        "                  results['std_test_score'][candidate]))\n",
        "            print(\"Parameters: {0}\".format(results['params'][candidate]))\n",
        "            print(\"\")\n"
      ],
      "execution_count": 61,
      "outputs": []
    },
    {
      "cell_type": "code",
      "metadata": {
        "id": "Vs3FMoTMpYLY"
      },
      "source": [
        "param_dist = {\"n_estimators\": [32, 64, 128], # Number of trees in random forest\n",
        "              \"max_features\": ['auto', 'sqrt'], # Number of features to consider at every split\n",
        "              \"max_depth\": [8,4, 2], # Maximum number of levels in tree\n",
        "              \"min_samples_split\": [2, 4, 6], #  Minimum number of samples required to split a node\n",
        "              \"min_samples_leaf\": [8, 12, 16], # Minimum number of samples required at each leaf node\n",
        "              \"bootstrap\": [True, False] # Method of selecting samples for training each tree\n",
        "            }\n"
      ],
      "execution_count": 62,
      "outputs": []
    },
    {
      "cell_type": "code",
      "metadata": {
        "id": "nnh2UfMUnlOL",
        "colab": {
          "base_uri": "https://localhost:8080/"
        },
        "outputId": "92c0c61f-b2c9-4bdd-8c95-3c1995c80a0d"
      },
      "source": [
        "grid_regres = GridSearchCV(estimator = regressor, param_grid= param_dist, cv=5)\n",
        "\n",
        "# Fit the random search model\n",
        "grid_regres.fit(X = train.drop(['total_cases'], axis=1), \n",
        "                           y = train['total_cases'])"
      ],
      "execution_count": 63,
      "outputs": [
        {
          "output_type": "execute_result",
          "data": {
            "text/plain": [
              "GridSearchCV(cv=5, estimator=RandomForestRegressor(),\n",
              "             param_grid={'bootstrap': [True, False], 'max_depth': [8, 4, 2],\n",
              "                         'max_features': ['auto', 'sqrt'],\n",
              "                         'min_samples_leaf': [8, 12, 16],\n",
              "                         'min_samples_split': [2, 4, 6],\n",
              "                         'n_estimators': [32, 64, 128]})"
            ]
          },
          "metadata": {},
          "execution_count": 63
        }
      ]
    },
    {
      "cell_type": "code",
      "metadata": {
        "id": "xdlDXSC7VmgR",
        "colab": {
          "base_uri": "https://localhost:8080/"
        },
        "outputId": "a10cc770-8f0e-4d7f-b98a-6baf2b3dc160"
      },
      "source": [
        "report(grid_regres.cv_results_, n_top = 10)"
      ],
      "execution_count": 64,
      "outputs": [
        {
          "output_type": "stream",
          "name": "stdout",
          "text": [
            "Model with rank: 1\n",
            "Mean validation score: -0.042 (std: 0.128)\n",
            "Parameters: {'bootstrap': True, 'max_depth': 4, 'max_features': 'sqrt', 'min_samples_leaf': 12, 'min_samples_split': 4, 'n_estimators': 128}\n",
            "\n",
            "Model with rank: 2\n",
            "Mean validation score: -0.045 (std: 0.177)\n",
            "Parameters: {'bootstrap': True, 'max_depth': 2, 'max_features': 'auto', 'min_samples_leaf': 8, 'min_samples_split': 2, 'n_estimators': 32}\n",
            "\n",
            "Model with rank: 3\n",
            "Mean validation score: -0.046 (std: 0.130)\n",
            "Parameters: {'bootstrap': True, 'max_depth': 4, 'max_features': 'sqrt', 'min_samples_leaf': 16, 'min_samples_split': 6, 'n_estimators': 64}\n",
            "\n",
            "Model with rank: 4\n",
            "Mean validation score: -0.046 (std: 0.131)\n",
            "Parameters: {'bootstrap': True, 'max_depth': 4, 'max_features': 'sqrt', 'min_samples_leaf': 16, 'min_samples_split': 4, 'n_estimators': 128}\n",
            "\n",
            "Model with rank: 5\n",
            "Mean validation score: -0.047 (std: 0.129)\n",
            "Parameters: {'bootstrap': True, 'max_depth': 4, 'max_features': 'sqrt', 'min_samples_leaf': 8, 'min_samples_split': 2, 'n_estimators': 128}\n",
            "\n",
            "Model with rank: 6\n",
            "Mean validation score: -0.047 (std: 0.134)\n",
            "Parameters: {'bootstrap': True, 'max_depth': 4, 'max_features': 'sqrt', 'min_samples_leaf': 16, 'min_samples_split': 4, 'n_estimators': 64}\n",
            "\n",
            "Model with rank: 7\n",
            "Mean validation score: -0.047 (std: 0.127)\n",
            "Parameters: {'bootstrap': True, 'max_depth': 4, 'max_features': 'sqrt', 'min_samples_leaf': 16, 'min_samples_split': 6, 'n_estimators': 128}\n",
            "\n",
            "Model with rank: 8\n",
            "Mean validation score: -0.047 (std: 0.127)\n",
            "Parameters: {'bootstrap': True, 'max_depth': 4, 'max_features': 'sqrt', 'min_samples_leaf': 12, 'min_samples_split': 2, 'n_estimators': 64}\n",
            "\n",
            "Model with rank: 9\n",
            "Mean validation score: -0.047 (std: 0.114)\n",
            "Parameters: {'bootstrap': True, 'max_depth': 4, 'max_features': 'sqrt', 'min_samples_leaf': 8, 'min_samples_split': 2, 'n_estimators': 32}\n",
            "\n",
            "Model with rank: 10\n",
            "Mean validation score: -0.047 (std: 0.120)\n",
            "Parameters: {'bootstrap': True, 'max_depth': 4, 'max_features': 'sqrt', 'min_samples_leaf': 8, 'min_samples_split': 4, 'n_estimators': 128}\n",
            "\n"
          ]
        }
      ]
    },
    {
      "cell_type": "code",
      "metadata": {
        "id": "11ykbUO4uPom",
        "colab": {
          "base_uri": "https://localhost:8080/"
        },
        "outputId": "bcca80e0-a3a6-4722-e6ca-a0f128673088"
      },
      "source": [
        "grid_regres.best_estimator_"
      ],
      "execution_count": 65,
      "outputs": [
        {
          "output_type": "execute_result",
          "data": {
            "text/plain": [
              "RandomForestRegressor(max_depth=4, max_features='sqrt', min_samples_leaf=12,\n",
              "                      min_samples_split=4, n_estimators=128)"
            ]
          },
          "metadata": {},
          "execution_count": 65
        }
      ]
    },
    {
      "cell_type": "code",
      "metadata": {
        "id": "u4cj3woAtG-j"
      },
      "source": [
        "# choose the best\n",
        "best_grid = grid_regres.best_estimator_\n",
        "\n",
        "# fit and predict\n",
        "best_grid.fit( X = train.drop(['total_cases'], axis=1), y = train['total_cases'])\n",
        "y_pred = best_grid.predict(test)\n",
        "\n",
        "# EVALUATE \n",
        "from sklearn.metrics import mean_absolute_error\n",
        "#mae = mean_absolute_error(test['count'], y_pred)\n",
        "#print ('MAE', mae)\n"
      ],
      "execution_count": 66,
      "outputs": []
    },
    {
      "cell_type": "code",
      "metadata": {
        "id": "QdKkaJ6xFZTG"
      },
      "source": [
        "import numpy as np\n",
        "res = np.rint(y_pred) # round\n",
        "res = res.astype(int) # cast to int\n",
        "# generate output\n",
        "output1 = pd.DataFrame({ 'city': df_test_sj['city'], 'year': df_test_sj['year'], 'weekofyear': df_test_sj['weekofyear'],'total_cases': res })\n"
      ],
      "execution_count": 67,
      "outputs": []
    },
    {
      "cell_type": "markdown",
      "metadata": {
        "id": "Pyya6pzKKKnC"
      },
      "source": [
        "#Modelo Iquitos (Random forest)"
      ]
    },
    {
      "cell_type": "code",
      "metadata": {
        "id": "2yUjTr5P1nXQ"
      },
      "source": [
        "selected_features_1= ['reanalysis_dew_point_temp_c',\n",
        "                      'reanalysis_min_air_temp_c',\n",
        "                      'reanalysis_relative_humidity_percent',\n",
        "                      'reanalysis_precip_amt_kg_per_m2',\n",
        "                      'reanalysis_specific_humidity_g_per_kg',\n",
        "                      'reanalysis_tdtr_k',\n",
        "                      'station_avg_temp_c',\n",
        "                      'station_max_temp_c',\n",
        "                      'station_min_temp_c'\n",
        "                     ]"
      ],
      "execution_count": 68,
      "outputs": []
    },
    {
      "cell_type": "code",
      "metadata": {
        "id": "kx7f3gjGhxp_"
      },
      "source": [
        "selected_features_1= ['reanalysis_dew_point_temp_c',\n",
        "                      'reanalysis_min_air_temp_c',\n",
        "                      'reanalysis_specific_humidity_g_per_kg',\n",
        "                      'station_min_temp_c',\n",
        "                      'total_cases'\n",
        "                     ]\n",
        "selected_features_t= ['reanalysis_dew_point_temp_c',\n",
        "                      'reanalysis_min_air_temp_c',\n",
        "                      'reanalysis_specific_humidity_g_per_kg',\n",
        "                      'station_min_temp_c',\n",
        "                     ]\n",
        "                                         "
      ],
      "execution_count": 69,
      "outputs": []
    },
    {
      "cell_type": "code",
      "metadata": {
        "id": "OuH7QSyMh23Y"
      },
      "source": [
        "train=df_train_iq[selected_features_1]\n",
        "test=df_test_iq[selected_features_t]"
      ],
      "execution_count": 70,
      "outputs": []
    },
    {
      "cell_type": "code",
      "metadata": {
        "id": "j_omq6kbKgED"
      },
      "source": [
        "import numpy as np\n",
        "import matplotlib.pyplot as plt\n",
        "from scipy.stats import randint as sp_randint\n",
        "\n",
        "from sklearn.ensemble import RandomForestRegressor\n",
        "\n",
        "\n",
        "from sklearn.model_selection import RandomizedSearchCV\n",
        "from sklearn.model_selection import GridSearchCV\n",
        "\n",
        "regressor = RandomForestRegressor() \n"
      ],
      "execution_count": 71,
      "outputs": []
    },
    {
      "cell_type": "code",
      "metadata": {
        "id": "kl_A7kV0Knep"
      },
      "source": [
        "def report(results, n_top=3): # Función para mostrar resultados\n",
        "    for i in range(1, n_top + 1):\n",
        "        candidates = np.flatnonzero(results['rank_test_score'] == i)\n",
        "        for candidate in candidates:\n",
        "            print(\"Model with rank: {0}\".format(i))\n",
        "            print(\"Mean validation score: {0:.3f} (std: {1:.3f})\".format(\n",
        "                  results['mean_test_score'][candidate],\n",
        "                  results['std_test_score'][candidate]))\n",
        "            print(\"Parameters: {0}\".format(results['params'][candidate]))\n",
        "            print(\"\")\n"
      ],
      "execution_count": 72,
      "outputs": []
    },
    {
      "cell_type": "code",
      "metadata": {
        "id": "k0A0r90HKuOH"
      },
      "source": [
        "param_dist = {\"n_estimators\": [32, 64, 128], # Number of trees in random forest\n",
        "              \"max_features\": ['auto', 'sqrt'], # Number of features to consider at every split\n",
        "              \"max_depth\": [8,4, 2], # Maximum number of levels in tree\n",
        "              \"min_samples_split\": [2, 4, 6], #  Minimum number of samples required to split a node\n",
        "              \"min_samples_leaf\": [8, 12, 16], # Minimum number of samples required at each leaf node\n",
        "              \"bootstrap\": [True, False] # Method of selecting samples for training each tree\n",
        "            }\n"
      ],
      "execution_count": 73,
      "outputs": []
    },
    {
      "cell_type": "code",
      "metadata": {
        "colab": {
          "base_uri": "https://localhost:8080/"
        },
        "id": "EzWLkQeKK2hX",
        "outputId": "ab156ddb-1046-4612-affe-134c2ffc1634"
      },
      "source": [
        "grid_regres = GridSearchCV(estimator = regressor, param_grid= param_dist, cv=5)\n",
        "\n",
        "# Fit the random search model\n",
        "grid_regres.fit(X = train.drop(['total_cases'], axis=1), \n",
        "                           y = train['total_cases'])"
      ],
      "execution_count": 74,
      "outputs": [
        {
          "output_type": "execute_result",
          "data": {
            "text/plain": [
              "GridSearchCV(cv=5, estimator=RandomForestRegressor(),\n",
              "             param_grid={'bootstrap': [True, False], 'max_depth': [8, 4, 2],\n",
              "                         'max_features': ['auto', 'sqrt'],\n",
              "                         'min_samples_leaf': [8, 12, 16],\n",
              "                         'min_samples_split': [2, 4, 6],\n",
              "                         'n_estimators': [32, 64, 128]})"
            ]
          },
          "metadata": {},
          "execution_count": 74
        }
      ]
    },
    {
      "cell_type": "code",
      "metadata": {
        "colab": {
          "base_uri": "https://localhost:8080/"
        },
        "id": "sJ06RylkK7U0",
        "outputId": "f09c351b-cbdc-4b65-cf8a-14abb50ff65d"
      },
      "source": [
        "report(grid_regres.cv_results_, n_top = 10)"
      ],
      "execution_count": 75,
      "outputs": [
        {
          "output_type": "stream",
          "name": "stdout",
          "text": [
            "Model with rank: 1\n",
            "Mean validation score: -0.064 (std: 0.102)\n",
            "Parameters: {'bootstrap': True, 'max_depth': 2, 'max_features': 'sqrt', 'min_samples_leaf': 16, 'min_samples_split': 2, 'n_estimators': 32}\n",
            "\n",
            "Model with rank: 2\n",
            "Mean validation score: -0.065 (std: 0.097)\n",
            "Parameters: {'bootstrap': True, 'max_depth': 2, 'max_features': 'auto', 'min_samples_leaf': 16, 'min_samples_split': 4, 'n_estimators': 64}\n",
            "\n",
            "Model with rank: 3\n",
            "Mean validation score: -0.065 (std: 0.104)\n",
            "Parameters: {'bootstrap': True, 'max_depth': 2, 'max_features': 'sqrt', 'min_samples_leaf': 12, 'min_samples_split': 4, 'n_estimators': 32}\n",
            "\n",
            "Model with rank: 4\n",
            "Mean validation score: -0.065 (std: 0.108)\n",
            "Parameters: {'bootstrap': True, 'max_depth': 2, 'max_features': 'sqrt', 'min_samples_leaf': 16, 'min_samples_split': 6, 'n_estimators': 128}\n",
            "\n",
            "Model with rank: 5\n",
            "Mean validation score: -0.067 (std: 0.094)\n",
            "Parameters: {'bootstrap': True, 'max_depth': 2, 'max_features': 'auto', 'min_samples_leaf': 16, 'min_samples_split': 2, 'n_estimators': 32}\n",
            "\n",
            "Model with rank: 6\n",
            "Mean validation score: -0.067 (std: 0.101)\n",
            "Parameters: {'bootstrap': True, 'max_depth': 2, 'max_features': 'sqrt', 'min_samples_leaf': 16, 'min_samples_split': 4, 'n_estimators': 64}\n",
            "\n",
            "Model with rank: 7\n",
            "Mean validation score: -0.068 (std: 0.097)\n",
            "Parameters: {'bootstrap': True, 'max_depth': 2, 'max_features': 'sqrt', 'min_samples_leaf': 12, 'min_samples_split': 6, 'n_estimators': 64}\n",
            "\n",
            "Model with rank: 8\n",
            "Mean validation score: -0.069 (std: 0.102)\n",
            "Parameters: {'bootstrap': True, 'max_depth': 2, 'max_features': 'sqrt', 'min_samples_leaf': 12, 'min_samples_split': 6, 'n_estimators': 32}\n",
            "\n",
            "Model with rank: 9\n",
            "Mean validation score: -0.069 (std: 0.106)\n",
            "Parameters: {'bootstrap': True, 'max_depth': 2, 'max_features': 'sqrt', 'min_samples_leaf': 16, 'min_samples_split': 6, 'n_estimators': 64}\n",
            "\n",
            "Model with rank: 10\n",
            "Mean validation score: -0.069 (std: 0.104)\n",
            "Parameters: {'bootstrap': True, 'max_depth': 2, 'max_features': 'sqrt', 'min_samples_leaf': 16, 'min_samples_split': 4, 'n_estimators': 32}\n",
            "\n"
          ]
        }
      ]
    },
    {
      "cell_type": "code",
      "metadata": {
        "colab": {
          "base_uri": "https://localhost:8080/"
        },
        "id": "n5R95zeCLFZg",
        "outputId": "a2973a2a-437c-4958-cc25-992137ba0959"
      },
      "source": [
        "grid_regres.best_estimator_"
      ],
      "execution_count": 76,
      "outputs": [
        {
          "output_type": "execute_result",
          "data": {
            "text/plain": [
              "RandomForestRegressor(max_depth=2, max_features='sqrt', min_samples_leaf=16,\n",
              "                      n_estimators=32)"
            ]
          },
          "metadata": {},
          "execution_count": 76
        }
      ]
    },
    {
      "cell_type": "code",
      "metadata": {
        "id": "UHOS1i0-LLzq"
      },
      "source": [
        "# choose the best\n",
        "best_grid = grid_regres.best_estimator_\n",
        "\n",
        "# fit and predict\n",
        "best_grid.fit( X = train.drop(['total_cases'], axis=1), y = train['total_cases'])\n",
        "y_pred = best_grid.predict(test)\n",
        "\n",
        "# EVALUATE \n",
        "from sklearn.metrics import mean_absolute_error\n",
        "#mae = mean_absolute_error(test['count'], y_pred)\n",
        "#print ('MAE', mae)\n"
      ],
      "execution_count": 77,
      "outputs": []
    },
    {
      "cell_type": "code",
      "metadata": {
        "id": "hH7S6JfmLoP1"
      },
      "source": [
        "import numpy as np\n",
        "res = np.rint(y_pred) # round\n",
        "res = res.astype(int) # cast to int\n",
        "# generate output\n",
        "output2 = pd.DataFrame({ 'city': df_test_iq['city'], 'year': df_test_iq['year'], 'weekofyear': df_test_iq['weekofyear'],'total_cases': res })\n"
      ],
      "execution_count": 78,
      "outputs": []
    },
    {
      "cell_type": "markdown",
      "metadata": {
        "id": "3ke2fnviWVyu"
      },
      "source": [
        "#Salida"
      ]
    },
    {
      "cell_type": "code",
      "metadata": {
        "id": "3RCujicxWZTE",
        "colab": {
          "base_uri": "https://localhost:8080/",
          "height": 203
        },
        "outputId": "95dd2abd-1b15-4032-d402-4e974aeeeaed"
      },
      "source": [
        "from google.colab import files\n",
        "output = pd.concat([output1, output2])\n",
        "\n",
        "with open('result.csv', 'w') as f:\n",
        "  output.to_csv(f,  index = False)\n",
        "  \n",
        "\n",
        "files.download('result.csv')\n",
        "output.head()"
      ],
      "execution_count": 79,
      "outputs": [
        {
          "output_type": "display_data",
          "data": {
            "application/javascript": [
              "\n",
              "    async function download(id, filename, size) {\n",
              "      if (!google.colab.kernel.accessAllowed) {\n",
              "        return;\n",
              "      }\n",
              "      const div = document.createElement('div');\n",
              "      const label = document.createElement('label');\n",
              "      label.textContent = `Downloading \"${filename}\": `;\n",
              "      div.appendChild(label);\n",
              "      const progress = document.createElement('progress');\n",
              "      progress.max = size;\n",
              "      div.appendChild(progress);\n",
              "      document.body.appendChild(div);\n",
              "\n",
              "      const buffers = [];\n",
              "      let downloaded = 0;\n",
              "\n",
              "      const channel = await google.colab.kernel.comms.open(id);\n",
              "      // Send a message to notify the kernel that we're ready.\n",
              "      channel.send({})\n",
              "\n",
              "      for await (const message of channel.messages) {\n",
              "        // Send a message to notify the kernel that we're ready.\n",
              "        channel.send({})\n",
              "        if (message.buffers) {\n",
              "          for (const buffer of message.buffers) {\n",
              "            buffers.push(buffer);\n",
              "            downloaded += buffer.byteLength;\n",
              "            progress.value = downloaded;\n",
              "          }\n",
              "        }\n",
              "      }\n",
              "      const blob = new Blob(buffers, {type: 'application/binary'});\n",
              "      const a = document.createElement('a');\n",
              "      a.href = window.URL.createObjectURL(blob);\n",
              "      a.download = filename;\n",
              "      div.appendChild(a);\n",
              "      a.click();\n",
              "      div.remove();\n",
              "    }\n",
              "  "
            ],
            "text/plain": [
              "<IPython.core.display.Javascript object>"
            ]
          },
          "metadata": {}
        },
        {
          "output_type": "display_data",
          "data": {
            "application/javascript": [
              "download(\"download_953583a5-6fd9-4f90-af38-43fc34bca3fe\", \"result.csv\", 5628)"
            ],
            "text/plain": [
              "<IPython.core.display.Javascript object>"
            ]
          },
          "metadata": {}
        },
        {
          "output_type": "execute_result",
          "data": {
            "text/html": [
              "<div>\n",
              "<style scoped>\n",
              "    .dataframe tbody tr th:only-of-type {\n",
              "        vertical-align: middle;\n",
              "    }\n",
              "\n",
              "    .dataframe tbody tr th {\n",
              "        vertical-align: top;\n",
              "    }\n",
              "\n",
              "    .dataframe thead th {\n",
              "        text-align: right;\n",
              "    }\n",
              "</style>\n",
              "<table border=\"1\" class=\"dataframe\">\n",
              "  <thead>\n",
              "    <tr style=\"text-align: right;\">\n",
              "      <th></th>\n",
              "      <th>city</th>\n",
              "      <th>year</th>\n",
              "      <th>weekofyear</th>\n",
              "      <th>total_cases</th>\n",
              "    </tr>\n",
              "  </thead>\n",
              "  <tbody>\n",
              "    <tr>\n",
              "      <th>0</th>\n",
              "      <td>sj</td>\n",
              "      <td>2008</td>\n",
              "      <td>18</td>\n",
              "      <td>10</td>\n",
              "    </tr>\n",
              "    <tr>\n",
              "      <th>1</th>\n",
              "      <td>sj</td>\n",
              "      <td>2008</td>\n",
              "      <td>19</td>\n",
              "      <td>10</td>\n",
              "    </tr>\n",
              "    <tr>\n",
              "      <th>2</th>\n",
              "      <td>sj</td>\n",
              "      <td>2008</td>\n",
              "      <td>20</td>\n",
              "      <td>10</td>\n",
              "    </tr>\n",
              "    <tr>\n",
              "      <th>3</th>\n",
              "      <td>sj</td>\n",
              "      <td>2008</td>\n",
              "      <td>21</td>\n",
              "      <td>10</td>\n",
              "    </tr>\n",
              "    <tr>\n",
              "      <th>4</th>\n",
              "      <td>sj</td>\n",
              "      <td>2008</td>\n",
              "      <td>22</td>\n",
              "      <td>10</td>\n",
              "    </tr>\n",
              "  </tbody>\n",
              "</table>\n",
              "</div>"
            ],
            "text/plain": [
              "  city  year  weekofyear  total_cases\n",
              "0   sj  2008          18           10\n",
              "1   sj  2008          19           10\n",
              "2   sj  2008          20           10\n",
              "3   sj  2008          21           10\n",
              "4   sj  2008          22           10"
            ]
          },
          "metadata": {},
          "execution_count": 79
        }
      ]
    },
    {
      "cell_type": "markdown",
      "metadata": {
        "id": "mUfbCo9TWi1Y"
      },
      "source": [
        "# Carga de Datos en Driven Data"
      ]
    },
    {
      "cell_type": "markdown",
      "metadata": {
        "id": "r8GlMW8fHG2C"
      },
      "source": [
        "![image.png](data:image/png;base64,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)"
      ]
    },
    {
      "cell_type": "markdown",
      "metadata": {
        "id": "r43l4CwrWpPQ"
      },
      "source": [
        "#Conclusiones"
      ]
    }
  ]
}